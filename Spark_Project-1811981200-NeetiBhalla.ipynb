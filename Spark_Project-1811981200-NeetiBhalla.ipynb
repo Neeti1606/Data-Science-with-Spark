{
 "cells": [
  {
   "cell_type": "code",
   "execution_count": 1,
   "id": "conventional-heavy",
   "metadata": {},
   "outputs": [],
   "source": [
    "import findspark\n",
    "findspark.init()\n",
    "import pyspark\n",
    "from pyspark.sql import SparkSession"
   ]
  },
  {
   "cell_type": "code",
   "execution_count": 2,
   "id": "enclosed-acquisition",
   "metadata": {},
   "outputs": [],
   "source": [
    "from pyspark.sql import SparkSession\n",
    "from pyspark.conf import SparkConf\n",
    "from pyspark.sql.types import * \n",
    "import pyspark.sql.functions as F\n",
    "from pyspark.sql.functions import col, asc,desc\n",
    "import matplotlib.pyplot as plt\n",
    "import numpy as np\n",
    "import seaborn as sns\n",
    "from pyspark.sql import SQLContext\n",
    "from pyspark.mllib.stat import Statistics\n",
    "import pandas as pd\n",
    "from pyspark.sql.functions import udf\n",
    "from pyspark.ml.feature import StringIndexer, VectorAssembler,StandardScaler\n",
    "from pyspark.ml import Pipeline\n",
    "from sklearn.metrics import confusion_matrix\n",
    "\n",
    "spark=SparkSession.builder.master (\"local[*]\").appName(\"part4\").getOrCreate()"
   ]
  },
  {
   "cell_type": "code",
   "execution_count": 3,
   "id": "guilty-calcium",
   "metadata": {},
   "outputs": [
    {
     "name": "stdout",
     "output_type": "stream",
     "text": [
      "+------+------------------+-----------+------------+---------------+------------+----------------+----------+-----------+--------------------+--------------------+--------------------+-----------------+----------+-------------+----------+--------------+---------------+----------------+----------+---------------+--------------------+---------------------------+--------------------------+--------------------------+--------------------+---------------+---------------+---------------+---------------+---------------+---------------+---------------+---------------+----------------+----------------+----------------+\n",
      "|TARGET|NAME_CONTRACT_TYPE|CODE_GENDER|FLAG_OWN_CAR|FLAG_OWN_REALTY|CNT_CHILDREN|AMT_INCOME_TOTAL|AMT_CREDIT|AMT_ANNUITY|    NAME_INCOME_TYPE| NAME_EDUCATION_TYPE|  NAME_FAMILY_STATUS|NAME_HOUSING_TYPE|DAYS_BIRTH|DAYS_EMPLOYED|FLAG_MOBIL|FLAG_EMP_PHONE|FLAG_WORK_PHONE|FLAG_CONT_MOBILE|FLAG_PHONE|CNT_FAM_MEMBERS|REGION_RATING_CLIENT|REGION_RATING_CLIENT_W_CITY|REG_REGION_NOT_LIVE_REGION|REG_REGION_NOT_WORK_REGION|   ORGANIZATION_TYPE|FLAG_DOCUMENT_2|FLAG_DOCUMENT_3|FLAG_DOCUMENT_4|FLAG_DOCUMENT_5|FLAG_DOCUMENT_6|FLAG_DOCUMENT_7|FLAG_DOCUMENT_8|FLAG_DOCUMENT_9|FLAG_DOCUMENT_10|FLAG_DOCUMENT_11|FLAG_DOCUMENT_12|\n",
      "+------+------------------+-----------+------------+---------------+------------+----------------+----------+-----------+--------------------+--------------------+--------------------+-----------------+----------+-------------+----------+--------------+---------------+----------------+----------+---------------+--------------------+---------------------------+--------------------------+--------------------------+--------------------+---------------+---------------+---------------+---------------+---------------+---------------+---------------+---------------+----------------+----------------+----------------+\n",
      "|     1|        Cash loans|          M|           N|              Y|           0|        202500.0|  406597.5|    24700.5|             Working|Secondary / secon...|Single / not married|House / apartment|     -9461|         -637|         1|             1|              0|               1|         1|              1|                   2|                          2|                         0|                         0|Business Entity T...|              0|              1|              0|              0|              0|              0|              0|              0|               0|               0|               0|\n",
      "|     0|        Cash loans|          F|           N|              N|           0|        270000.0| 1293502.5|    35698.5|       State servant|    Higher education|             Married|House / apartment|    -16765|        -1188|         1|             1|              0|               1|         1|              2|                   1|                          1|                         0|                         0|              School|              0|              1|              0|              0|              0|              0|              0|              0|               0|               0|               0|\n",
      "|     0|   Revolving loans|          M|           Y|              Y|           0|         67500.0|  135000.0|     6750.0|             Working|Secondary / secon...|Single / not married|House / apartment|    -19046|         -225|         1|             1|              1|               1|         1|              1|                   2|                          2|                         0|                         0|          Government|              0|              0|              0|              0|              0|              0|              0|              0|               0|               0|               0|\n",
      "|     0|        Cash loans|          F|           N|              Y|           0|        135000.0|  312682.5|    29686.5|             Working|Secondary / secon...|      Civil marriage|House / apartment|    -19005|        -3039|         1|             1|              0|               1|         0|              2|                   2|                          2|                         0|                         0|Business Entity T...|              0|              1|              0|              0|              0|              0|              0|              0|               0|               0|               0|\n",
      "|     0|        Cash loans|          M|           N|              Y|           0|        121500.0|  513000.0|    21865.5|             Working|Secondary / secon...|Single / not married|House / apartment|    -19932|        -3038|         1|             1|              0|               1|         0|              1|                   2|                          2|                         0|                         0|            Religion|              0|              0|              0|              0|              0|              0|              1|              0|               0|               0|               0|\n",
      "|     0|        Cash loans|          M|           N|              Y|           0|         99000.0|  490495.5|    27517.5|       State servant|Secondary / secon...|             Married|House / apartment|    -16941|        -1588|         1|             1|              1|               1|         1|              2|                   2|                          2|                         0|                         0|               Other|              0|              1|              0|              0|              0|              0|              0|              0|               0|               0|               0|\n",
      "|     0|        Cash loans|          F|           Y|              Y|           1|        171000.0| 1560726.0|    41301.0|Commercial associate|    Higher education|             Married|House / apartment|    -13778|        -3130|         1|             1|              0|               1|         1|              3|                   2|                          2|                         0|                         0|Business Entity T...|              0|              0|              0|              0|              0|              0|              1|              0|               0|               0|               0|\n",
      "|     0|        Cash loans|          M|           Y|              Y|           0|        360000.0| 1530000.0|    42075.0|       State servant|    Higher education|             Married|House / apartment|    -18850|         -449|         1|             1|              1|               1|         0|              2|                   3|                          3|                         0|                         0|               Other|              0|              1|              0|              0|              0|              0|              0|              0|               0|               0|               0|\n",
      "|     0|        Cash loans|          F|           N|              Y|           0|        112500.0| 1019610.0|    33826.5|           Pensioner|Secondary / secon...|             Married|House / apartment|    -20099|       365243|         1|             0|              0|               1|         0|              2|                   2|                          2|                         0|                         0|                 XNA|              0|              1|              0|              0|              0|              0|              0|              0|               0|               0|               0|\n",
      "|     0|   Revolving loans|          M|           N|              Y|           0|        135000.0|  405000.0|    20250.0|             Working|Secondary / secon...|Single / not married|House / apartment|    -14469|        -2019|         1|             1|              0|               1|         0|              1|                   2|                          2|                         0|                         0|         Electricity|              0|              0|              0|              0|              0|              0|              0|              0|               0|               0|               0|\n",
      "+------+------------------+-----------+------------+---------------+------------+----------------+----------+-----------+--------------------+--------------------+--------------------+-----------------+----------+-------------+----------+--------------+---------------+----------------+----------+---------------+--------------------+---------------------------+--------------------------+--------------------------+--------------------+---------------+---------------+---------------+---------------+---------------+---------------+---------------+---------------+----------------+----------------+----------------+\n",
      "only showing top 10 rows\n",
      "\n"
     ]
    }
   ],
   "source": [
    "spark=SparkSession.builder.appName('Prediction_model').getOrCreate()\n",
    "\n",
    "#create spark dataframe of input csv file\n",
    "df=spark.read.csv('C:\\\\Users\\\\DELL\\\\OneDrive\\\\Desktop\\\\Data Science\\\\Hadoop\\\\Spark\\\\Project\\\\application_train.csv',inferSchema=True,header=True)\n",
    "df.show(10)"
   ]
  },
  {
   "cell_type": "code",
   "execution_count": 4,
   "id": "accurate-chance",
   "metadata": {},
   "outputs": [
    {
     "name": "stdout",
     "output_type": "stream",
     "text": [
      "root\n",
      " |-- TARGET: integer (nullable = true)\n",
      " |-- NAME_CONTRACT_TYPE: string (nullable = true)\n",
      " |-- CODE_GENDER: string (nullable = true)\n",
      " |-- FLAG_OWN_CAR: string (nullable = true)\n",
      " |-- FLAG_OWN_REALTY: string (nullable = true)\n",
      " |-- CNT_CHILDREN: integer (nullable = true)\n",
      " |-- AMT_INCOME_TOTAL: double (nullable = true)\n",
      " |-- AMT_CREDIT: double (nullable = true)\n",
      " |-- AMT_ANNUITY: double (nullable = true)\n",
      " |-- NAME_INCOME_TYPE: string (nullable = true)\n",
      " |-- NAME_EDUCATION_TYPE: string (nullable = true)\n",
      " |-- NAME_FAMILY_STATUS: string (nullable = true)\n",
      " |-- NAME_HOUSING_TYPE: string (nullable = true)\n",
      " |-- DAYS_BIRTH: integer (nullable = true)\n",
      " |-- DAYS_EMPLOYED: integer (nullable = true)\n",
      " |-- FLAG_MOBIL: integer (nullable = true)\n",
      " |-- FLAG_EMP_PHONE: integer (nullable = true)\n",
      " |-- FLAG_WORK_PHONE: integer (nullable = true)\n",
      " |-- FLAG_CONT_MOBILE: integer (nullable = true)\n",
      " |-- FLAG_PHONE: integer (nullable = true)\n",
      " |-- CNT_FAM_MEMBERS: integer (nullable = true)\n",
      " |-- REGION_RATING_CLIENT: integer (nullable = true)\n",
      " |-- REGION_RATING_CLIENT_W_CITY: integer (nullable = true)\n",
      " |-- REG_REGION_NOT_LIVE_REGION: integer (nullable = true)\n",
      " |-- REG_REGION_NOT_WORK_REGION: integer (nullable = true)\n",
      " |-- ORGANIZATION_TYPE: string (nullable = true)\n",
      " |-- FLAG_DOCUMENT_2: integer (nullable = true)\n",
      " |-- FLAG_DOCUMENT_3: integer (nullable = true)\n",
      " |-- FLAG_DOCUMENT_4: integer (nullable = true)\n",
      " |-- FLAG_DOCUMENT_5: integer (nullable = true)\n",
      " |-- FLAG_DOCUMENT_6: integer (nullable = true)\n",
      " |-- FLAG_DOCUMENT_7: integer (nullable = true)\n",
      " |-- FLAG_DOCUMENT_8: integer (nullable = true)\n",
      " |-- FLAG_DOCUMENT_9: integer (nullable = true)\n",
      " |-- FLAG_DOCUMENT_10: integer (nullable = true)\n",
      " |-- FLAG_DOCUMENT_11: integer (nullable = true)\n",
      " |-- FLAG_DOCUMENT_12: integer (nullable = true)\n",
      "\n"
     ]
    }
   ],
   "source": [
    "df.printSchema()"
   ]
  },
  {
   "cell_type": "code",
   "execution_count": 5,
   "id": "placed-reflection",
   "metadata": {},
   "outputs": [
    {
     "data": {
      "text/plain": [
       "[Row(TARGET=1, NAME_CONTRACT_TYPE='Cash loans', CODE_GENDER='M', FLAG_OWN_CAR='N', FLAG_OWN_REALTY='Y', CNT_CHILDREN=0, AMT_INCOME_TOTAL=202500.0, AMT_CREDIT=406597.5, AMT_ANNUITY=24700.5, NAME_INCOME_TYPE='Working', NAME_EDUCATION_TYPE='Secondary / secondary special', NAME_FAMILY_STATUS='Single / not married', NAME_HOUSING_TYPE='House / apartment', DAYS_BIRTH=-9461, DAYS_EMPLOYED=-637, FLAG_MOBIL=1, FLAG_EMP_PHONE=1, FLAG_WORK_PHONE=0, FLAG_CONT_MOBILE=1, FLAG_PHONE=1, CNT_FAM_MEMBERS=1, REGION_RATING_CLIENT=2, REGION_RATING_CLIENT_W_CITY=2, REG_REGION_NOT_LIVE_REGION=0, REG_REGION_NOT_WORK_REGION=0, ORGANIZATION_TYPE='Business Entity Type 3', FLAG_DOCUMENT_2=0, FLAG_DOCUMENT_3=1, FLAG_DOCUMENT_4=0, FLAG_DOCUMENT_5=0, FLAG_DOCUMENT_6=0, FLAG_DOCUMENT_7=0, FLAG_DOCUMENT_8=0, FLAG_DOCUMENT_9=0, FLAG_DOCUMENT_10=0, FLAG_DOCUMENT_11=0, FLAG_DOCUMENT_12=0),\n",
       " Row(TARGET=0, NAME_CONTRACT_TYPE='Cash loans', CODE_GENDER='F', FLAG_OWN_CAR='N', FLAG_OWN_REALTY='N', CNT_CHILDREN=0, AMT_INCOME_TOTAL=270000.0, AMT_CREDIT=1293502.5, AMT_ANNUITY=35698.5, NAME_INCOME_TYPE='State servant', NAME_EDUCATION_TYPE='Higher education', NAME_FAMILY_STATUS='Married', NAME_HOUSING_TYPE='House / apartment', DAYS_BIRTH=-16765, DAYS_EMPLOYED=-1188, FLAG_MOBIL=1, FLAG_EMP_PHONE=1, FLAG_WORK_PHONE=0, FLAG_CONT_MOBILE=1, FLAG_PHONE=1, CNT_FAM_MEMBERS=2, REGION_RATING_CLIENT=1, REGION_RATING_CLIENT_W_CITY=1, REG_REGION_NOT_LIVE_REGION=0, REG_REGION_NOT_WORK_REGION=0, ORGANIZATION_TYPE='School', FLAG_DOCUMENT_2=0, FLAG_DOCUMENT_3=1, FLAG_DOCUMENT_4=0, FLAG_DOCUMENT_5=0, FLAG_DOCUMENT_6=0, FLAG_DOCUMENT_7=0, FLAG_DOCUMENT_8=0, FLAG_DOCUMENT_9=0, FLAG_DOCUMENT_10=0, FLAG_DOCUMENT_11=0, FLAG_DOCUMENT_12=0),\n",
       " Row(TARGET=0, NAME_CONTRACT_TYPE='Revolving loans', CODE_GENDER='M', FLAG_OWN_CAR='Y', FLAG_OWN_REALTY='Y', CNT_CHILDREN=0, AMT_INCOME_TOTAL=67500.0, AMT_CREDIT=135000.0, AMT_ANNUITY=6750.0, NAME_INCOME_TYPE='Working', NAME_EDUCATION_TYPE='Secondary / secondary special', NAME_FAMILY_STATUS='Single / not married', NAME_HOUSING_TYPE='House / apartment', DAYS_BIRTH=-19046, DAYS_EMPLOYED=-225, FLAG_MOBIL=1, FLAG_EMP_PHONE=1, FLAG_WORK_PHONE=1, FLAG_CONT_MOBILE=1, FLAG_PHONE=1, CNT_FAM_MEMBERS=1, REGION_RATING_CLIENT=2, REGION_RATING_CLIENT_W_CITY=2, REG_REGION_NOT_LIVE_REGION=0, REG_REGION_NOT_WORK_REGION=0, ORGANIZATION_TYPE='Government', FLAG_DOCUMENT_2=0, FLAG_DOCUMENT_3=0, FLAG_DOCUMENT_4=0, FLAG_DOCUMENT_5=0, FLAG_DOCUMENT_6=0, FLAG_DOCUMENT_7=0, FLAG_DOCUMENT_8=0, FLAG_DOCUMENT_9=0, FLAG_DOCUMENT_10=0, FLAG_DOCUMENT_11=0, FLAG_DOCUMENT_12=0),\n",
       " Row(TARGET=0, NAME_CONTRACT_TYPE='Cash loans', CODE_GENDER='F', FLAG_OWN_CAR='N', FLAG_OWN_REALTY='Y', CNT_CHILDREN=0, AMT_INCOME_TOTAL=135000.0, AMT_CREDIT=312682.5, AMT_ANNUITY=29686.5, NAME_INCOME_TYPE='Working', NAME_EDUCATION_TYPE='Secondary / secondary special', NAME_FAMILY_STATUS='Civil marriage', NAME_HOUSING_TYPE='House / apartment', DAYS_BIRTH=-19005, DAYS_EMPLOYED=-3039, FLAG_MOBIL=1, FLAG_EMP_PHONE=1, FLAG_WORK_PHONE=0, FLAG_CONT_MOBILE=1, FLAG_PHONE=0, CNT_FAM_MEMBERS=2, REGION_RATING_CLIENT=2, REGION_RATING_CLIENT_W_CITY=2, REG_REGION_NOT_LIVE_REGION=0, REG_REGION_NOT_WORK_REGION=0, ORGANIZATION_TYPE='Business Entity Type 3', FLAG_DOCUMENT_2=0, FLAG_DOCUMENT_3=1, FLAG_DOCUMENT_4=0, FLAG_DOCUMENT_5=0, FLAG_DOCUMENT_6=0, FLAG_DOCUMENT_7=0, FLAG_DOCUMENT_8=0, FLAG_DOCUMENT_9=0, FLAG_DOCUMENT_10=0, FLAG_DOCUMENT_11=0, FLAG_DOCUMENT_12=0),\n",
       " Row(TARGET=0, NAME_CONTRACT_TYPE='Cash loans', CODE_GENDER='M', FLAG_OWN_CAR='N', FLAG_OWN_REALTY='Y', CNT_CHILDREN=0, AMT_INCOME_TOTAL=121500.0, AMT_CREDIT=513000.0, AMT_ANNUITY=21865.5, NAME_INCOME_TYPE='Working', NAME_EDUCATION_TYPE='Secondary / secondary special', NAME_FAMILY_STATUS='Single / not married', NAME_HOUSING_TYPE='House / apartment', DAYS_BIRTH=-19932, DAYS_EMPLOYED=-3038, FLAG_MOBIL=1, FLAG_EMP_PHONE=1, FLAG_WORK_PHONE=0, FLAG_CONT_MOBILE=1, FLAG_PHONE=0, CNT_FAM_MEMBERS=1, REGION_RATING_CLIENT=2, REGION_RATING_CLIENT_W_CITY=2, REG_REGION_NOT_LIVE_REGION=0, REG_REGION_NOT_WORK_REGION=0, ORGANIZATION_TYPE='Religion', FLAG_DOCUMENT_2=0, FLAG_DOCUMENT_3=0, FLAG_DOCUMENT_4=0, FLAG_DOCUMENT_5=0, FLAG_DOCUMENT_6=0, FLAG_DOCUMENT_7=0, FLAG_DOCUMENT_8=1, FLAG_DOCUMENT_9=0, FLAG_DOCUMENT_10=0, FLAG_DOCUMENT_11=0, FLAG_DOCUMENT_12=0)]"
      ]
     },
     "execution_count": 5,
     "metadata": {},
     "output_type": "execute_result"
    }
   ],
   "source": [
    "df.head(5)"
   ]
  },
  {
   "cell_type": "code",
   "execution_count": 6,
   "id": "stainless-knight",
   "metadata": {},
   "outputs": [
    {
     "data": {
      "text/plain": [
       "307511"
      ]
     },
     "execution_count": 6,
     "metadata": {},
     "output_type": "execute_result"
    }
   ],
   "source": [
    "df.count()"
   ]
  },
  {
   "cell_type": "code",
   "execution_count": 7,
   "id": "specified-conservative",
   "metadata": {},
   "outputs": [
    {
     "name": "stdout",
     "output_type": "stream",
     "text": [
      "TARGET \t with null values: 0\n",
      "NAME_CONTRACT_TYPE \t with null values: 0\n",
      "CODE_GENDER \t with null values: 0\n",
      "FLAG_OWN_CAR \t with null values: 0\n",
      "FLAG_OWN_REALTY \t with null values: 0\n",
      "CNT_CHILDREN \t with null values: 0\n",
      "AMT_INCOME_TOTAL \t with null values: 0\n",
      "AMT_CREDIT \t with null values: 0\n",
      "AMT_ANNUITY \t with null values: 12\n",
      "NAME_INCOME_TYPE \t with null values: 0\n",
      "NAME_EDUCATION_TYPE \t with null values: 0\n",
      "NAME_FAMILY_STATUS \t with null values: 0\n",
      "NAME_HOUSING_TYPE \t with null values: 0\n",
      "DAYS_BIRTH \t with null values: 0\n",
      "DAYS_EMPLOYED \t with null values: 0\n",
      "FLAG_MOBIL \t with null values: 0\n",
      "FLAG_EMP_PHONE \t with null values: 0\n",
      "FLAG_WORK_PHONE \t with null values: 0\n",
      "FLAG_CONT_MOBILE \t with null values: 0\n",
      "FLAG_PHONE \t with null values: 0\n",
      "CNT_FAM_MEMBERS \t with null values: 2\n",
      "REGION_RATING_CLIENT \t with null values: 0\n",
      "REGION_RATING_CLIENT_W_CITY \t with null values: 0\n",
      "REG_REGION_NOT_LIVE_REGION \t with null values: 0\n",
      "REG_REGION_NOT_WORK_REGION \t with null values: 0\n",
      "ORGANIZATION_TYPE \t with null values: 0\n",
      "FLAG_DOCUMENT_2 \t with null values: 0\n",
      "FLAG_DOCUMENT_3 \t with null values: 0\n",
      "FLAG_DOCUMENT_4 \t with null values: 0\n",
      "FLAG_DOCUMENT_5 \t with null values: 0\n",
      "FLAG_DOCUMENT_6 \t with null values: 0\n",
      "FLAG_DOCUMENT_7 \t with null values: 0\n",
      "FLAG_DOCUMENT_8 \t with null values: 0\n",
      "FLAG_DOCUMENT_9 \t with null values: 0\n",
      "FLAG_DOCUMENT_10 \t with null values: 0\n",
      "FLAG_DOCUMENT_11 \t with null values: 0\n",
      "FLAG_DOCUMENT_12 \t with null values: 0\n"
     ]
    }
   ],
   "source": [
    "for col in df.columns:\n",
    "    print(col,\"\\t\", \"with null values:\" , df.filter(df[col].isNull()).count())"
   ]
  },
  {
   "cell_type": "code",
   "execution_count": 8,
   "id": "signal-lawsuit",
   "metadata": {},
   "outputs": [],
   "source": [
    "df = df.fillna({'AMT_ANNUITY':4})"
   ]
  },
  {
   "cell_type": "code",
   "execution_count": 9,
   "id": "ordered-mobility",
   "metadata": {},
   "outputs": [],
   "source": [
    "df=df.fillna({'CNT_FAM_MEMBERS':0})"
   ]
  },
  {
   "cell_type": "code",
   "execution_count": 10,
   "id": "disturbed-destruction",
   "metadata": {},
   "outputs": [
    {
     "data": {
      "text/plain": [
       "TARGET                         0\n",
       "NAME_CONTRACT_TYPE             0\n",
       "CODE_GENDER                    0\n",
       "FLAG_OWN_CAR                   0\n",
       "FLAG_OWN_REALTY                0\n",
       "CNT_CHILDREN                   0\n",
       "AMT_INCOME_TOTAL               0\n",
       "AMT_CREDIT                     0\n",
       "AMT_ANNUITY                    0\n",
       "NAME_INCOME_TYPE               0\n",
       "NAME_EDUCATION_TYPE            0\n",
       "NAME_FAMILY_STATUS             0\n",
       "NAME_HOUSING_TYPE              0\n",
       "DAYS_BIRTH                     0\n",
       "DAYS_EMPLOYED                  0\n",
       "FLAG_MOBIL                     0\n",
       "FLAG_EMP_PHONE                 0\n",
       "FLAG_WORK_PHONE                0\n",
       "FLAG_CONT_MOBILE               0\n",
       "FLAG_PHONE                     0\n",
       "CNT_FAM_MEMBERS                0\n",
       "REGION_RATING_CLIENT           0\n",
       "REGION_RATING_CLIENT_W_CITY    0\n",
       "REG_REGION_NOT_LIVE_REGION     0\n",
       "REG_REGION_NOT_WORK_REGION     0\n",
       "ORGANIZATION_TYPE              0\n",
       "FLAG_DOCUMENT_2                0\n",
       "FLAG_DOCUMENT_3                0\n",
       "FLAG_DOCUMENT_4                0\n",
       "FLAG_DOCUMENT_5                0\n",
       "FLAG_DOCUMENT_6                0\n",
       "FLAG_DOCUMENT_7                0\n",
       "FLAG_DOCUMENT_8                0\n",
       "FLAG_DOCUMENT_9                0\n",
       "FLAG_DOCUMENT_10               0\n",
       "FLAG_DOCUMENT_11               0\n",
       "FLAG_DOCUMENT_12               0\n",
       "dtype: int64"
      ]
     },
     "execution_count": 10,
     "metadata": {},
     "output_type": "execute_result"
    }
   ],
   "source": [
    "df.toPandas().isnull().sum()"
   ]
  },
  {
   "cell_type": "code",
   "execution_count": 11,
   "id": "occupational-hamilton",
   "metadata": {},
   "outputs": [
    {
     "name": "stdout",
     "output_type": "stream",
     "text": [
      "+-------+------------------+\n",
      "|summary|  AMT_INCOME_TOTAL|\n",
      "+-------+------------------+\n",
      "|  count|            307511|\n",
      "|   mean| 168797.9192969845|\n",
      "| stddev|237123.14627885542|\n",
      "|    min|           25650.0|\n",
      "|    max|            1.17E8|\n",
      "+-------+------------------+\n",
      "\n"
     ]
    }
   ],
   "source": [
    "df.describe([\"AMT_INCOME_TOTAL\"]).show()"
   ]
  },
  {
   "cell_type": "code",
   "execution_count": null,
   "id": "exclusive-chase",
   "metadata": {},
   "outputs": [],
   "source": [
    "from matplotlib import cm\n",
    "fig = plt.figure(figsize=(25,15)) ## Plot Size \n",
    "st = fig.suptitle(\"Distribution of Features\", fontsize=50,\n",
    "                  verticalalignment='center') # Plot Main Title \n",
    "\n",
    "for col,num in zip(df.toPandas().describe().columns, range(2,36)):\n",
    "    ax = fig.add_subplot(3,4,num)\n",
    "    ax.hist(df.toPandas()[col])\n",
    "    plt.style.use('dark_background') \n",
    "    plt.grid(False)\n",
    "    plt.xticks(rotation=45,fontsize=20)\n",
    "    plt.yticks(fontsize=15)\n",
    "    plt.title(col.upper(),fontsize=20)\n",
    "plt.tight_layout()\n",
    "st.set_y(0.95)\n",
    "fig.subplots_adjust(top=0.85,hspace = 0.4)\n",
    "plt.show()"
   ]
  },
  {
   "cell_type": "code",
   "execution_count": 12,
   "id": "approximate-garlic",
   "metadata": {},
   "outputs": [
    {
     "data": {
      "text/html": [
       "<div>\n",
       "<style scoped>\n",
       "    .dataframe tbody tr th:only-of-type {\n",
       "        vertical-align: middle;\n",
       "    }\n",
       "\n",
       "    .dataframe tbody tr th {\n",
       "        vertical-align: top;\n",
       "    }\n",
       "\n",
       "    .dataframe thead th {\n",
       "        text-align: right;\n",
       "    }\n",
       "</style>\n",
       "<table border=\"1\" class=\"dataframe\">\n",
       "  <thead>\n",
       "    <tr style=\"text-align: right;\">\n",
       "      <th></th>\n",
       "      <th>TARGET</th>\n",
       "      <th>NAME_CONTRACT_TYPE</th>\n",
       "      <th>CODE_GENDER</th>\n",
       "      <th>FLAG_OWN_CAR</th>\n",
       "      <th>FLAG_OWN_REALTY</th>\n",
       "      <th>CNT_CHILDREN</th>\n",
       "      <th>AMT_INCOME_TOTAL</th>\n",
       "      <th>AMT_CREDIT</th>\n",
       "      <th>AMT_ANNUITY</th>\n",
       "      <th>NAME_INCOME_TYPE</th>\n",
       "      <th>...</th>\n",
       "      <th>FLAG_DOCUMENT_3</th>\n",
       "      <th>FLAG_DOCUMENT_4</th>\n",
       "      <th>FLAG_DOCUMENT_5</th>\n",
       "      <th>FLAG_DOCUMENT_6</th>\n",
       "      <th>FLAG_DOCUMENT_7</th>\n",
       "      <th>FLAG_DOCUMENT_8</th>\n",
       "      <th>FLAG_DOCUMENT_9</th>\n",
       "      <th>FLAG_DOCUMENT_10</th>\n",
       "      <th>FLAG_DOCUMENT_11</th>\n",
       "      <th>FLAG_DOCUMENT_12</th>\n",
       "    </tr>\n",
       "  </thead>\n",
       "  <tbody>\n",
       "    <tr>\n",
       "      <th>0</th>\n",
       "      <td>1</td>\n",
       "      <td>Cash loans</td>\n",
       "      <td>M</td>\n",
       "      <td>N</td>\n",
       "      <td>Y</td>\n",
       "      <td>0</td>\n",
       "      <td>202500.0</td>\n",
       "      <td>406597.5</td>\n",
       "      <td>24700.5</td>\n",
       "      <td>Working</td>\n",
       "      <td>...</td>\n",
       "      <td>1</td>\n",
       "      <td>0</td>\n",
       "      <td>0</td>\n",
       "      <td>0</td>\n",
       "      <td>0</td>\n",
       "      <td>0</td>\n",
       "      <td>0</td>\n",
       "      <td>0</td>\n",
       "      <td>0</td>\n",
       "      <td>0</td>\n",
       "    </tr>\n",
       "    <tr>\n",
       "      <th>1</th>\n",
       "      <td>0</td>\n",
       "      <td>Cash loans</td>\n",
       "      <td>F</td>\n",
       "      <td>N</td>\n",
       "      <td>N</td>\n",
       "      <td>0</td>\n",
       "      <td>270000.0</td>\n",
       "      <td>1293502.5</td>\n",
       "      <td>35698.5</td>\n",
       "      <td>State servant</td>\n",
       "      <td>...</td>\n",
       "      <td>1</td>\n",
       "      <td>0</td>\n",
       "      <td>0</td>\n",
       "      <td>0</td>\n",
       "      <td>0</td>\n",
       "      <td>0</td>\n",
       "      <td>0</td>\n",
       "      <td>0</td>\n",
       "      <td>0</td>\n",
       "      <td>0</td>\n",
       "    </tr>\n",
       "    <tr>\n",
       "      <th>2</th>\n",
       "      <td>0</td>\n",
       "      <td>Revolving loans</td>\n",
       "      <td>M</td>\n",
       "      <td>Y</td>\n",
       "      <td>Y</td>\n",
       "      <td>0</td>\n",
       "      <td>67500.0</td>\n",
       "      <td>135000.0</td>\n",
       "      <td>6750.0</td>\n",
       "      <td>Working</td>\n",
       "      <td>...</td>\n",
       "      <td>0</td>\n",
       "      <td>0</td>\n",
       "      <td>0</td>\n",
       "      <td>0</td>\n",
       "      <td>0</td>\n",
       "      <td>0</td>\n",
       "      <td>0</td>\n",
       "      <td>0</td>\n",
       "      <td>0</td>\n",
       "      <td>0</td>\n",
       "    </tr>\n",
       "    <tr>\n",
       "      <th>3</th>\n",
       "      <td>0</td>\n",
       "      <td>Cash loans</td>\n",
       "      <td>F</td>\n",
       "      <td>N</td>\n",
       "      <td>Y</td>\n",
       "      <td>0</td>\n",
       "      <td>135000.0</td>\n",
       "      <td>312682.5</td>\n",
       "      <td>29686.5</td>\n",
       "      <td>Working</td>\n",
       "      <td>...</td>\n",
       "      <td>1</td>\n",
       "      <td>0</td>\n",
       "      <td>0</td>\n",
       "      <td>0</td>\n",
       "      <td>0</td>\n",
       "      <td>0</td>\n",
       "      <td>0</td>\n",
       "      <td>0</td>\n",
       "      <td>0</td>\n",
       "      <td>0</td>\n",
       "    </tr>\n",
       "    <tr>\n",
       "      <th>4</th>\n",
       "      <td>0</td>\n",
       "      <td>Cash loans</td>\n",
       "      <td>M</td>\n",
       "      <td>N</td>\n",
       "      <td>Y</td>\n",
       "      <td>0</td>\n",
       "      <td>121500.0</td>\n",
       "      <td>513000.0</td>\n",
       "      <td>21865.5</td>\n",
       "      <td>Working</td>\n",
       "      <td>...</td>\n",
       "      <td>0</td>\n",
       "      <td>0</td>\n",
       "      <td>0</td>\n",
       "      <td>0</td>\n",
       "      <td>0</td>\n",
       "      <td>1</td>\n",
       "      <td>0</td>\n",
       "      <td>0</td>\n",
       "      <td>0</td>\n",
       "      <td>0</td>\n",
       "    </tr>\n",
       "    <tr>\n",
       "      <th>...</th>\n",
       "      <td>...</td>\n",
       "      <td>...</td>\n",
       "      <td>...</td>\n",
       "      <td>...</td>\n",
       "      <td>...</td>\n",
       "      <td>...</td>\n",
       "      <td>...</td>\n",
       "      <td>...</td>\n",
       "      <td>...</td>\n",
       "      <td>...</td>\n",
       "      <td>...</td>\n",
       "      <td>...</td>\n",
       "      <td>...</td>\n",
       "      <td>...</td>\n",
       "      <td>...</td>\n",
       "      <td>...</td>\n",
       "      <td>...</td>\n",
       "      <td>...</td>\n",
       "      <td>...</td>\n",
       "      <td>...</td>\n",
       "      <td>...</td>\n",
       "    </tr>\n",
       "    <tr>\n",
       "      <th>307506</th>\n",
       "      <td>0</td>\n",
       "      <td>Cash loans</td>\n",
       "      <td>M</td>\n",
       "      <td>N</td>\n",
       "      <td>N</td>\n",
       "      <td>0</td>\n",
       "      <td>157500.0</td>\n",
       "      <td>254700.0</td>\n",
       "      <td>27558.0</td>\n",
       "      <td>Working</td>\n",
       "      <td>...</td>\n",
       "      <td>0</td>\n",
       "      <td>0</td>\n",
       "      <td>0</td>\n",
       "      <td>0</td>\n",
       "      <td>0</td>\n",
       "      <td>1</td>\n",
       "      <td>0</td>\n",
       "      <td>0</td>\n",
       "      <td>0</td>\n",
       "      <td>0</td>\n",
       "    </tr>\n",
       "    <tr>\n",
       "      <th>307507</th>\n",
       "      <td>0</td>\n",
       "      <td>Cash loans</td>\n",
       "      <td>F</td>\n",
       "      <td>N</td>\n",
       "      <td>Y</td>\n",
       "      <td>0</td>\n",
       "      <td>72000.0</td>\n",
       "      <td>269550.0</td>\n",
       "      <td>12001.5</td>\n",
       "      <td>Pensioner</td>\n",
       "      <td>...</td>\n",
       "      <td>1</td>\n",
       "      <td>0</td>\n",
       "      <td>0</td>\n",
       "      <td>0</td>\n",
       "      <td>0</td>\n",
       "      <td>0</td>\n",
       "      <td>0</td>\n",
       "      <td>0</td>\n",
       "      <td>0</td>\n",
       "      <td>0</td>\n",
       "    </tr>\n",
       "    <tr>\n",
       "      <th>307508</th>\n",
       "      <td>0</td>\n",
       "      <td>Cash loans</td>\n",
       "      <td>F</td>\n",
       "      <td>N</td>\n",
       "      <td>Y</td>\n",
       "      <td>0</td>\n",
       "      <td>153000.0</td>\n",
       "      <td>677664.0</td>\n",
       "      <td>29979.0</td>\n",
       "      <td>Working</td>\n",
       "      <td>...</td>\n",
       "      <td>1</td>\n",
       "      <td>0</td>\n",
       "      <td>0</td>\n",
       "      <td>0</td>\n",
       "      <td>0</td>\n",
       "      <td>0</td>\n",
       "      <td>0</td>\n",
       "      <td>0</td>\n",
       "      <td>0</td>\n",
       "      <td>0</td>\n",
       "    </tr>\n",
       "    <tr>\n",
       "      <th>307509</th>\n",
       "      <td>1</td>\n",
       "      <td>Cash loans</td>\n",
       "      <td>F</td>\n",
       "      <td>N</td>\n",
       "      <td>Y</td>\n",
       "      <td>0</td>\n",
       "      <td>171000.0</td>\n",
       "      <td>370107.0</td>\n",
       "      <td>20205.0</td>\n",
       "      <td>Commercial associate</td>\n",
       "      <td>...</td>\n",
       "      <td>1</td>\n",
       "      <td>0</td>\n",
       "      <td>0</td>\n",
       "      <td>0</td>\n",
       "      <td>0</td>\n",
       "      <td>0</td>\n",
       "      <td>0</td>\n",
       "      <td>0</td>\n",
       "      <td>0</td>\n",
       "      <td>0</td>\n",
       "    </tr>\n",
       "    <tr>\n",
       "      <th>307510</th>\n",
       "      <td>0</td>\n",
       "      <td>Cash loans</td>\n",
       "      <td>F</td>\n",
       "      <td>N</td>\n",
       "      <td>N</td>\n",
       "      <td>0</td>\n",
       "      <td>157500.0</td>\n",
       "      <td>675000.0</td>\n",
       "      <td>49117.5</td>\n",
       "      <td>Commercial associate</td>\n",
       "      <td>...</td>\n",
       "      <td>1</td>\n",
       "      <td>0</td>\n",
       "      <td>0</td>\n",
       "      <td>0</td>\n",
       "      <td>0</td>\n",
       "      <td>0</td>\n",
       "      <td>0</td>\n",
       "      <td>0</td>\n",
       "      <td>0</td>\n",
       "      <td>0</td>\n",
       "    </tr>\n",
       "  </tbody>\n",
       "</table>\n",
       "<p>307511 rows × 37 columns</p>\n",
       "</div>"
      ],
      "text/plain": [
       "        TARGET NAME_CONTRACT_TYPE CODE_GENDER FLAG_OWN_CAR FLAG_OWN_REALTY  \\\n",
       "0            1         Cash loans           M            N               Y   \n",
       "1            0         Cash loans           F            N               N   \n",
       "2            0    Revolving loans           M            Y               Y   \n",
       "3            0         Cash loans           F            N               Y   \n",
       "4            0         Cash loans           M            N               Y   \n",
       "...        ...                ...         ...          ...             ...   \n",
       "307506       0         Cash loans           M            N               N   \n",
       "307507       0         Cash loans           F            N               Y   \n",
       "307508       0         Cash loans           F            N               Y   \n",
       "307509       1         Cash loans           F            N               Y   \n",
       "307510       0         Cash loans           F            N               N   \n",
       "\n",
       "        CNT_CHILDREN  AMT_INCOME_TOTAL  AMT_CREDIT  AMT_ANNUITY  \\\n",
       "0                  0          202500.0    406597.5      24700.5   \n",
       "1                  0          270000.0   1293502.5      35698.5   \n",
       "2                  0           67500.0    135000.0       6750.0   \n",
       "3                  0          135000.0    312682.5      29686.5   \n",
       "4                  0          121500.0    513000.0      21865.5   \n",
       "...              ...               ...         ...          ...   \n",
       "307506             0          157500.0    254700.0      27558.0   \n",
       "307507             0           72000.0    269550.0      12001.5   \n",
       "307508             0          153000.0    677664.0      29979.0   \n",
       "307509             0          171000.0    370107.0      20205.0   \n",
       "307510             0          157500.0    675000.0      49117.5   \n",
       "\n",
       "            NAME_INCOME_TYPE  ... FLAG_DOCUMENT_3 FLAG_DOCUMENT_4  \\\n",
       "0                    Working  ...               1               0   \n",
       "1              State servant  ...               1               0   \n",
       "2                    Working  ...               0               0   \n",
       "3                    Working  ...               1               0   \n",
       "4                    Working  ...               0               0   \n",
       "...                      ...  ...             ...             ...   \n",
       "307506               Working  ...               0               0   \n",
       "307507             Pensioner  ...               1               0   \n",
       "307508               Working  ...               1               0   \n",
       "307509  Commercial associate  ...               1               0   \n",
       "307510  Commercial associate  ...               1               0   \n",
       "\n",
       "       FLAG_DOCUMENT_5  FLAG_DOCUMENT_6  FLAG_DOCUMENT_7  FLAG_DOCUMENT_8  \\\n",
       "0                    0                0                0                0   \n",
       "1                    0                0                0                0   \n",
       "2                    0                0                0                0   \n",
       "3                    0                0                0                0   \n",
       "4                    0                0                0                1   \n",
       "...                ...              ...              ...              ...   \n",
       "307506               0                0                0                1   \n",
       "307507               0                0                0                0   \n",
       "307508               0                0                0                0   \n",
       "307509               0                0                0                0   \n",
       "307510               0                0                0                0   \n",
       "\n",
       "        FLAG_DOCUMENT_9  FLAG_DOCUMENT_10  FLAG_DOCUMENT_11  FLAG_DOCUMENT_12  \n",
       "0                     0                 0                 0                 0  \n",
       "1                     0                 0                 0                 0  \n",
       "2                     0                 0                 0                 0  \n",
       "3                     0                 0                 0                 0  \n",
       "4                     0                 0                 0                 0  \n",
       "...                 ...               ...               ...               ...  \n",
       "307506                0                 0                 0                 0  \n",
       "307507                0                 0                 0                 0  \n",
       "307508                0                 0                 0                 0  \n",
       "307509                0                 0                 0                 0  \n",
       "307510                0                 0                 0                 0  \n",
       "\n",
       "[307511 rows x 37 columns]"
      ]
     },
     "execution_count": 12,
     "metadata": {},
     "output_type": "execute_result"
    }
   ],
   "source": [
    "df.toPandas()"
   ]
  },
  {
   "cell_type": "code",
   "execution_count": 13,
   "id": "strange-package",
   "metadata": {},
   "outputs": [
    {
     "data": {
      "text/plain": [
       "['TARGET',\n",
       " 'NAME_CONTRACT_TYPE',\n",
       " 'CODE_GENDER',\n",
       " 'FLAG_OWN_CAR',\n",
       " 'FLAG_OWN_REALTY',\n",
       " 'CNT_CHILDREN',\n",
       " 'AMT_INCOME_TOTAL',\n",
       " 'AMT_CREDIT',\n",
       " 'AMT_ANNUITY',\n",
       " 'NAME_INCOME_TYPE',\n",
       " 'NAME_EDUCATION_TYPE',\n",
       " 'NAME_FAMILY_STATUS',\n",
       " 'NAME_HOUSING_TYPE',\n",
       " 'DAYS_BIRTH',\n",
       " 'DAYS_EMPLOYED',\n",
       " 'FLAG_MOBIL',\n",
       " 'FLAG_EMP_PHONE',\n",
       " 'FLAG_WORK_PHONE',\n",
       " 'FLAG_CONT_MOBILE',\n",
       " 'FLAG_PHONE',\n",
       " 'CNT_FAM_MEMBERS',\n",
       " 'REGION_RATING_CLIENT',\n",
       " 'REGION_RATING_CLIENT_W_CITY',\n",
       " 'REG_REGION_NOT_LIVE_REGION',\n",
       " 'REG_REGION_NOT_WORK_REGION',\n",
       " 'ORGANIZATION_TYPE',\n",
       " 'FLAG_DOCUMENT_2',\n",
       " 'FLAG_DOCUMENT_3',\n",
       " 'FLAG_DOCUMENT_4',\n",
       " 'FLAG_DOCUMENT_5',\n",
       " 'FLAG_DOCUMENT_6',\n",
       " 'FLAG_DOCUMENT_7',\n",
       " 'FLAG_DOCUMENT_8',\n",
       " 'FLAG_DOCUMENT_9',\n",
       " 'FLAG_DOCUMENT_10',\n",
       " 'FLAG_DOCUMENT_11',\n",
       " 'FLAG_DOCUMENT_12']"
      ]
     },
     "execution_count": 13,
     "metadata": {},
     "output_type": "execute_result"
    }
   ],
   "source": [
    "df.columns"
   ]
  },
  {
   "cell_type": "code",
   "execution_count": 14,
   "id": "aboriginal-willow",
   "metadata": {},
   "outputs": [],
   "source": [
    "from pyspark.ml.feature import (VectorAssembler,VectorIndexer)\n",
    "\n",
    "assembler = VectorAssembler(inputCols=['AMT_INCOME_TOTAL',\n",
    " 'AMT_CREDIT',\n",
    " 'AMT_ANNUITY'],outputCol='features')"
   ]
  },
  {
   "cell_type": "code",
   "execution_count": 15,
   "id": "visible-converter",
   "metadata": {},
   "outputs": [],
   "source": [
    "output = assembler.transform(df)"
   ]
  },
  {
   "cell_type": "code",
   "execution_count": 16,
   "id": "falling-bottom",
   "metadata": {},
   "outputs": [
    {
     "name": "stdout",
     "output_type": "stream",
     "text": [
      "+--------------------+\n",
      "|            features|\n",
      "+--------------------+\n",
      "|[202500.0,406597....|\n",
      "|[270000.0,1293502...|\n",
      "|[67500.0,135000.0...|\n",
      "|[135000.0,312682....|\n",
      "|[121500.0,513000....|\n",
      "|[99000.0,490495.5...|\n",
      "|[171000.0,1560726...|\n",
      "|[360000.0,1530000...|\n",
      "|[112500.0,1019610...|\n",
      "|[135000.0,405000....|\n",
      "|[112500.0,652500....|\n",
      "|[38419.155,148365...|\n",
      "|[67500.0,80865.0,...|\n",
      "|[225000.0,918468....|\n",
      "|[189000.0,773680....|\n",
      "|[157500.0,299772....|\n",
      "|[108000.0,509602....|\n",
      "|[81000.0,270000.0...|\n",
      "|[112500.0,157500....|\n",
      "|[90000.0,544491.0...|\n",
      "+--------------------+\n",
      "only showing top 20 rows\n",
      "\n"
     ]
    }
   ],
   "source": [
    "output.select(\"features\").show()"
   ]
  },
  {
   "cell_type": "code",
   "execution_count": 17,
   "id": "wrapped-knock",
   "metadata": {},
   "outputs": [],
   "source": [
    "final_data = output.select(\"features\",'TARGET')"
   ]
  },
  {
   "cell_type": "code",
   "execution_count": 18,
   "id": "olympic-headquarters",
   "metadata": {},
   "outputs": [],
   "source": [
    "from pyspark.ml.classification import LogisticRegression\n",
    "lr = LogisticRegression(featuresCol='features',labelCol='TARGET')\n",
    "train, test = final_data.randomSplit([0.7,.3])"
   ]
  },
  {
   "cell_type": "code",
   "execution_count": 19,
   "id": "affecting-mortality",
   "metadata": {},
   "outputs": [
    {
     "name": "stdout",
     "output_type": "stream",
     "text": [
      "+--------------------+\n",
      "|            features|\n",
      "+--------------------+\n",
      "|[27000.0,71955.0,...|\n",
      "|[27000.0,112500.0...|\n",
      "|[29250.0,135000.0...|\n",
      "|[29250.0,152820.0...|\n",
      "|[29250.0,225000.0...|\n",
      "+--------------------+\n",
      "only showing top 5 rows\n",
      "\n"
     ]
    }
   ],
   "source": [
    "trained_model = lr.fit(train)\n",
    "unlabeled_data=test.select('features')\n",
    "unlabeled_data.show(5)\n"
   ]
  },
  {
   "cell_type": "code",
   "execution_count": 20,
   "id": "connected-belly",
   "metadata": {},
   "outputs": [
    {
     "name": "stdout",
     "output_type": "stream",
     "text": [
      "+--------------------+------+--------------------+--------------------+----------+\n",
      "|            features|TARGET|       rawPrediction|         probability|prediction|\n",
      "+--------------------+------+--------------------+--------------------+----------+\n",
      "|[27000.0,71955.0,...|     0|[2.30739299642364...|[0.90948747572302...|       0.0|\n",
      "|[27000.0,112500.0...|     0|[2.34157381418959...|[0.91226213490968...|       0.0|\n",
      "|[29250.0,135000.0...|     0|[2.34380869343335...|[0.91244084975824...|       0.0|\n",
      "|[29250.0,152820.0...|     0|[2.32952638699287...|[0.91129305826454...|       0.0|\n",
      "|[29250.0,225000.0...|     0|[2.31178899374845...|[0.90984870342474...|       0.0|\n",
      "|[31500.0,142200.0...|     0|[2.32887243194361...|[0.91124017961230...|       0.0|\n",
      "|[31500.0,314055.0...|     0|[2.38993603602135...|[0.91605664960395...|       0.0|\n",
      "|[31500.0,585000.0...|     1|[2.43612742572884...|[0.91954103929629...|       0.0|\n",
      "|[31500.0,634482.0...|     0|[2.52275927680052...|[0.92572200785143...|       0.0|\n",
      "|[31531.5,178290.0...|     0|[2.29027821390907...|[0.90806867799026...|       0.0|\n",
      "|[31815.0,381528.0...|     0|[2.41755351946300...|[0.91815609054611...|       0.0|\n",
      "|[31860.0,808650.0...|     0|[2.55770963195568...|[0.92808975027764...|       0.0|\n",
      "|[32139.0,536917.5...|     0|[2.47489264729862...|[0.92236285030562...|       0.0|\n",
      "|[32400.0,229500.0...|     0|[2.36276017846010...|[0.91394314468596...|       0.0|\n",
      "|[32850.0,675000.0...|     0|[2.51936493536862...|[0.92548827278056...|       0.0|\n",
      "|[33300.0,359685.0...|     0|[2.40100264608092...|[0.91690372833537...|       0.0|\n",
      "|[33750.0,123637.5...|     0|[2.32378353866550...|[0.91082771992803...|       0.0|\n",
      "|[36000.0,66222.0,...|     1|[2.30496995951552...|[0.90928781329921...|       0.0|\n",
      "|[36000.0,98910.0,...|     0|[2.32197782112766...|[0.91068094965409...|       0.0|\n",
      "|[36000.0,112068.0...|     0|[2.29531512190641...|[0.90848829546764...|       0.0|\n",
      "+--------------------+------+--------------------+--------------------+----------+\n",
      "only showing top 20 rows\n",
      "\n"
     ]
    }
   ],
   "source": [
    "predictions=trained_model.transform(test)\n",
    "predictions.show()"
   ]
  },
  {
   "cell_type": "code",
   "execution_count": 22,
   "id": "exact-black",
   "metadata": {},
   "outputs": [
    {
     "name": "stdout",
     "output_type": "stream",
     "text": [
      "Accuracy :  0.9193044689394022\n"
     ]
    }
   ],
   "source": [
    "accuracy = predictions.filter(test.TARGET == predictions.prediction).count() / float(test.count())\n",
    "print(\"Accuracy : \",accuracy)"
   ]
  },
  {
   "cell_type": "code",
   "execution_count": 23,
   "id": "cellular-catch",
   "metadata": {},
   "outputs": [],
   "source": [
    "class_names=[1.0,0.0]\n",
    "import itertools\n",
    "def plot_confusion_matrix(cm, classes,\n",
    "                          normalize=False,\n",
    "                          title='Confusion matrix',\n",
    "                          cmap=plt.cm.Blues):\n",
    "    \"\"\"\n",
    "    This function prints and plots the confusion matrix.\n",
    "    Normalization can be applied by setting `normalize=True`.\n",
    "    \"\"\"\n",
    "    if normalize:\n",
    "        cm = cm.astype('float') / cm.sum(axis=1)[:, np.newaxis]\n",
    "        print(\"Normalized confusion matrix\")\n",
    "    else:\n",
    "        print('Confusion matrix, without normalization')\n",
    "\n",
    "    print(cm)\n",
    "\n",
    "    plt.imshow(cm, interpolation='nearest', cmap=cmap)\n",
    "    plt.title(title)\n",
    "    plt.colorbar()\n",
    "    tick_marks = np.arange(len(classes))\n",
    "    plt.xticks(tick_marks, classes, rotation=45)\n",
    "    plt.yticks(tick_marks, classes)\n",
    "\n",
    "    fmt = '.2f' if normalize else 'd'\n",
    "    thresh = cm.max() / 2.\n",
    "    for i, j in itertools.product(range(cm.shape[0]), range(cm.shape[1])):\n",
    "        plt.text(j, i, format(cm[i, j], fmt),\n",
    "                 horizontalalignment=\"center\",\n",
    "                 color=\"white\" if cm[i, j] > thresh else \"black\")\n",
    "\n",
    "    plt.tight_layout()\n",
    "    plt.ylabel('True label')\n",
    "    plt.xlabel('Predicted label')"
   ]
  },
  {
   "cell_type": "code",
   "execution_count": 24,
   "id": "smart-glance",
   "metadata": {},
   "outputs": [
    {
     "name": "stdout",
     "output_type": "stream",
     "text": [
      "Confusion matrix, without normalization\n",
      "[[    0  7416]\n",
      " [    0 84485]]\n"
     ]
    },
    {
     "data": {
      "image/png": "[encoded data removed]",
      "text/plain": [
       "<Figure size 432x288 with 2 Axes>"
      ]
     },
     "metadata": {
      "needs_background": "light"
     },
     "output_type": "display_data"
    }
   ],
   "source": [
    "y_true = predictions.select(\"TARGET\")\n",
    "y_true = y_true.toPandas()\n",
    "\n",
    "y_pred = predictions.select(\"prediction\")\n",
    "y_pred = y_pred.toPandas()\n",
    "\n",
    "cnf_matrix = confusion_matrix(y_true, y_pred,labels=class_names)\n",
    "#cnf_matrix\n",
    "plt.figure()\n",
    "plot_confusion_matrix(cnf_matrix, classes=class_names,\n",
    "                      title='Confusion matrix')\n",
    "plt.show()"
   ]
  },
  {
   "cell_type": "code",
   "execution_count": 31,
   "id": "expanded-diana",
   "metadata": {},
   "outputs": [
    {
     "data": {
      "text/plain": [
       "[3, 9, 21]"
      ]
     },
     "execution_count": 31,
     "metadata": {},
     "output_type": "execute_result"
    }
   ],
   "source": [
    "from pyspark import SparkContext\n",
    "from pyspark.sql import SQLContext\n",
    "sc = SparkContext.getOrCreate()\n",
    "sqlContext = SQLContext(sc)\n",
    "data = sc.parallelize([1, 2, 4 , 5 , 6 , 7 , 8], 3) \n",
    "def function(iterator): \n",
    "    yield sum([_ for _ in iterator]) \n",
    "data.mapPartitions(function).collect()\n"
   ]
  },
  {
   "cell_type": "code",
   "execution_count": 32,
   "id": "narrow-photographer",
   "metadata": {},
   "outputs": [
    {
     "data": {
      "text/plain": [
       "StorageLevel(False, False, False, False, 1)"
      ]
     },
     "execution_count": 32,
     "metadata": {},
     "output_type": "execute_result"
    }
   ],
   "source": [
    " data.getStorageLevel()"
   ]
  },
  {
   "cell_type": "code",
   "execution_count": 33,
   "id": "direct-quick",
   "metadata": {},
   "outputs": [
    {
     "ename": "NameError",
     "evalue": "name 'MarshalSerializer' is not defined",
     "output_type": "error",
     "traceback": [
      "\u001b[1;31m---------------------------------------------------------------------------\u001b[0m",
      "\u001b[1;31mNameError\u001b[0m                                 Traceback (most recent call last)",
      "\u001b[1;32m<ipython-input-33-0944f35b343b>\u001b[0m in \u001b[0;36m<module>\u001b[1;34m\u001b[0m\n\u001b[1;32m----> 1\u001b[1;33m \u001b[0msc\u001b[0m \u001b[1;33m=\u001b[0m \u001b[0mSparkContext\u001b[0m\u001b[1;33m(\u001b[0m\u001b[1;34m\"local\"\u001b[0m\u001b[1;33m,\u001b[0m \u001b[1;34m\"serialization app\"\u001b[0m\u001b[1;33m,\u001b[0m \u001b[0mserializer\u001b[0m \u001b[1;33m=\u001b[0m \u001b[0mMarshalSerializer\u001b[0m\u001b[1;33m(\u001b[0m\u001b[1;33m)\u001b[0m\u001b[1;33m)\u001b[0m\u001b[1;33m\u001b[0m\u001b[1;33m\u001b[0m\u001b[0m\n\u001b[0m\u001b[0;32m      2\u001b[0m \u001b[0mprint\u001b[0m\u001b[1;33m(\u001b[0m\u001b[0msc\u001b[0m\u001b[1;33m.\u001b[0m\u001b[0mparallelize\u001b[0m\u001b[1;33m(\u001b[0m\u001b[0mlist\u001b[0m\u001b[1;33m(\u001b[0m\u001b[0mrange\u001b[0m\u001b[1;33m(\u001b[0m\u001b[1;36m1000\u001b[0m\u001b[1;33m)\u001b[0m\u001b[1;33m)\u001b[0m\u001b[1;33m)\u001b[0m\u001b[1;33m.\u001b[0m\u001b[0mmap\u001b[0m\u001b[1;33m(\u001b[0m\u001b[1;32mlambda\u001b[0m \u001b[0mx\u001b[0m\u001b[1;33m:\u001b[0m \u001b[0mstr\u001b[0m\u001b[1;33m(\u001b[0m\u001b[0mx\u001b[0m\u001b[1;33m*\u001b[0m\u001b[1;36m3\u001b[0m\u001b[1;33m)\u001b[0m\u001b[1;33m*\u001b[0m\u001b[0mx\u001b[0m\u001b[1;33m)\u001b[0m\u001b[1;33m.\u001b[0m\u001b[0mtake\u001b[0m\u001b[1;33m(\u001b[0m\u001b[1;36m5\u001b[0m\u001b[1;33m)\u001b[0m\u001b[1;33m)\u001b[0m\u001b[1;33m\u001b[0m\u001b[1;33m\u001b[0m\u001b[0m\n",
      "\u001b[1;31mNameError\u001b[0m: name 'MarshalSerializer' is not defined"
     ]
    }
   ],
   "source": [
    "sc = SparkContext(\"local\", \"serialization app\", serializer = MarshalSerializer()) \n",
    "print(sc.parallelize(list(range(1000))).map(lambda x: str(x*3)*x).take(5))"
   ]
  },
  {
   "cell_type": "code",
   "execution_count": 39,
   "id": "august-montana",
   "metadata": {},
   "outputs": [
    {
     "data": {
      "text/plain": [
       "10"
      ]
     },
     "execution_count": 39,
     "metadata": {},
     "output_type": "execute_result"
    }
   ],
   "source": [
    "num = sc.accumulator(10) \n",
    "def f(x): \n",
    "    global num \n",
    "    num+=x \n",
    "    rdd = sc.parallelize([20,30,40,50]) \n",
    "    rdd.foreach(f) \n",
    "    final = num.value\n",
    "final"
   ]
  },
  {
   "cell_type": "code",
   "execution_count": 40,
   "id": "innocent-vegetation",
   "metadata": {},
   "outputs": [
    {
     "name": "stdout",
     "output_type": "stream",
     "text": [
      "[0, 23]\n"
     ]
    }
   ],
   "source": [
    "rdd1 = sc.parallelize((0,23), 6) \n",
    "rdd2 = rdd1.repartition(4) \n",
    "print(rdd2.collect())"
   ]
  },
  {
   "cell_type": "code",
   "execution_count": 41,
   "id": "marked-mapping",
   "metadata": {},
   "outputs": [],
   "source": [
    "schema = StructType([ StructField('firstname', StringType(), True), StructField('middlename', StringType(), True), StructField('lastname', StringType(), True) ])"
   ]
  },
  {
   "cell_type": "code",
   "execution_count": 42,
   "id": "visible-notion",
   "metadata": {},
   "outputs": [
    {
     "data": {
      "text/plain": [
       "StructType(List(StructField(firstname,StringType,true),StructField(middlename,StringType,true),StructField(lastname,StringType,true)))"
      ]
     },
     "execution_count": 42,
     "metadata": {},
     "output_type": "execute_result"
    }
   ],
   "source": [
    "schema"
   ]
  },
  {
   "cell_type": "code",
   "execution_count": 43,
   "id": "collect-satellite",
   "metadata": {},
   "outputs": [
    {
     "ename": "AnalysisException",
     "evalue": "cannot resolve '`firstname`' given input columns: [AMT_ANNUITY, AMT_CREDIT, AMT_INCOME_TOTAL, CNT_CHILDREN, CNT_FAM_MEMBERS, CODE_GENDER, DAYS_BIRTH, DAYS_EMPLOYED, FLAG_CONT_MOBILE, FLAG_DOCUMENT_10, FLAG_DOCUMENT_11, FLAG_DOCUMENT_12, FLAG_DOCUMENT_2, FLAG_DOCUMENT_3, FLAG_DOCUMENT_4, FLAG_DOCUMENT_5, FLAG_DOCUMENT_6, FLAG_DOCUMENT_7, FLAG_DOCUMENT_8, FLAG_DOCUMENT_9, FLAG_EMP_PHONE, FLAG_MOBIL, FLAG_OWN_CAR, FLAG_OWN_REALTY, FLAG_PHONE, FLAG_WORK_PHONE, NAME_CONTRACT_TYPE, NAME_EDUCATION_TYPE, NAME_FAMILY_STATUS, NAME_HOUSING_TYPE, NAME_INCOME_TYPE, ORGANIZATION_TYPE, REGION_RATING_CLIENT, REGION_RATING_CLIENT_W_CITY, REG_REGION_NOT_LIVE_REGION, REG_REGION_NOT_WORK_REGION, TARGET];\n'Project ['firstname, 'lastname]\n+- Project [TARGET#16, NAME_CONTRACT_TYPE#17, CODE_GENDER#18, FLAG_OWN_CAR#19, FLAG_OWN_REALTY#20, CNT_CHILDREN#21, AMT_INCOME_TOTAL#22, AMT_CREDIT#23, AMT_ANNUITY#1983, NAME_INCOME_TYPE#25, NAME_EDUCATION_TYPE#26, NAME_FAMILY_STATUS#27, NAME_HOUSING_TYPE#28, DAYS_BIRTH#29, DAYS_EMPLOYED#30, FLAG_MOBIL#31, FLAG_EMP_PHONE#32, FLAG_WORK_PHONE#33, FLAG_CONT_MOBILE#34, FLAG_PHONE#35, coalesce(CNT_FAM_MEMBERS#36, cast(0 as int)) AS CNT_FAM_MEMBERS#2058, REGION_RATING_CLIENT#37, REGION_RATING_CLIENT_W_CITY#38, REG_REGION_NOT_LIVE_REGION#39, ... 13 more fields]\n   +- Project [TARGET#16, NAME_CONTRACT_TYPE#17, CODE_GENDER#18, FLAG_OWN_CAR#19, FLAG_OWN_REALTY#20, CNT_CHILDREN#21, AMT_INCOME_TOTAL#22, AMT_CREDIT#23, coalesce(nanvl(AMT_ANNUITY#24, cast(null as double)), cast(4 as double)) AS AMT_ANNUITY#1983, NAME_INCOME_TYPE#25, NAME_EDUCATION_TYPE#26, NAME_FAMILY_STATUS#27, NAME_HOUSING_TYPE#28, DAYS_BIRTH#29, DAYS_EMPLOYED#30, FLAG_MOBIL#31, FLAG_EMP_PHONE#32, FLAG_WORK_PHONE#33, FLAG_CONT_MOBILE#34, FLAG_PHONE#35, CNT_FAM_MEMBERS#36, REGION_RATING_CLIENT#37, REGION_RATING_CLIENT_W_CITY#38, REG_REGION_NOT_LIVE_REGION#39, ... 13 more fields]\n      +- Relation[TARGET#16,NAME_CONTRACT_TYPE#17,CODE_GENDER#18,FLAG_OWN_CAR#19,FLAG_OWN_REALTY#20,CNT_CHILDREN#21,AMT_INCOME_TOTAL#22,AMT_CREDIT#23,AMT_ANNUITY#24,NAME_INCOME_TYPE#25,NAME_EDUCATION_TYPE#26,NAME_FAMILY_STATUS#27,NAME_HOUSING_TYPE#28,DAYS_BIRTH#29,DAYS_EMPLOYED#30,FLAG_MOBIL#31,FLAG_EMP_PHONE#32,FLAG_WORK_PHONE#33,FLAG_CONT_MOBILE#34,FLAG_PHONE#35,CNT_FAM_MEMBERS#36,REGION_RATING_CLIENT#37,REGION_RATING_CLIENT_W_CITY#38,REG_REGION_NOT_LIVE_REGION#39,... 13 more fields] csv\n",
     "output_type": "error",
     "traceback": [
      "\u001b[1;31m---------------------------------------------------------------------------\u001b[0m",
      "\u001b[1;31mAnalysisException\u001b[0m                         Traceback (most recent call last)",
      "\u001b[1;32m<ipython-input-43-7da7690a831c>\u001b[0m in \u001b[0;36m<module>\u001b[1;34m\u001b[0m\n\u001b[1;32m----> 1\u001b[1;33m \u001b[0mdf\u001b[0m\u001b[1;33m.\u001b[0m\u001b[0mselect\u001b[0m\u001b[1;33m(\u001b[0m\u001b[1;33m[\u001b[0m\u001b[1;34m\"firstname\"\u001b[0m\u001b[1;33m,\u001b[0m\u001b[1;34m\"lastname\"\u001b[0m\u001b[1;33m]\u001b[0m\u001b[1;33m)\u001b[0m\u001b[1;33m\u001b[0m\u001b[1;33m\u001b[0m\u001b[0m\n\u001b[0m",
      "\u001b[1;32mC:\\spark-3.1.1-bin-hadoop2.7\\python\\pyspark\\sql\\dataframe.py\u001b[0m in \u001b[0;36mselect\u001b[1;34m(self, *cols)\u001b[0m\n\u001b[0;32m   1667\u001b[0m         \u001b[1;33m[\u001b[0m\u001b[0mRow\u001b[0m\u001b[1;33m(\u001b[0m\u001b[0mname\u001b[0m\u001b[1;33m=\u001b[0m\u001b[1;34m'Alice'\u001b[0m\u001b[1;33m,\u001b[0m \u001b[0mage\u001b[0m\u001b[1;33m=\u001b[0m\u001b[1;36m12\u001b[0m\u001b[1;33m)\u001b[0m\u001b[1;33m,\u001b[0m \u001b[0mRow\u001b[0m\u001b[1;33m(\u001b[0m\u001b[0mname\u001b[0m\u001b[1;33m=\u001b[0m\u001b[1;34m'Bob'\u001b[0m\u001b[1;33m,\u001b[0m \u001b[0mage\u001b[0m\u001b[1;33m=\u001b[0m\u001b[1;36m15\u001b[0m\u001b[1;33m)\u001b[0m\u001b[1;33m]\u001b[0m\u001b[1;33m\u001b[0m\u001b[1;33m\u001b[0m\u001b[0m\n\u001b[0;32m   1668\u001b[0m         \"\"\"\n\u001b[1;32m-> 1669\u001b[1;33m         \u001b[0mjdf\u001b[0m \u001b[1;33m=\u001b[0m \u001b[0mself\u001b[0m\u001b[1;33m.\u001b[0m\u001b[0m_jdf\u001b[0m\u001b[1;33m.\u001b[0m\u001b[0mselect\u001b[0m\u001b[1;33m(\u001b[0m\u001b[0mself\u001b[0m\u001b[1;33m.\u001b[0m\u001b[0m_jcols\u001b[0m\u001b[1;33m(\u001b[0m\u001b[1;33m*\u001b[0m\u001b[0mcols\u001b[0m\u001b[1;33m)\u001b[0m\u001b[1;33m)\u001b[0m\u001b[1;33m\u001b[0m\u001b[1;33m\u001b[0m\u001b[0m\n\u001b[0m\u001b[0;32m   1670\u001b[0m         \u001b[1;32mreturn\u001b[0m \u001b[0mDataFrame\u001b[0m\u001b[1;33m(\u001b[0m\u001b[0mjdf\u001b[0m\u001b[1;33m,\u001b[0m \u001b[0mself\u001b[0m\u001b[1;33m.\u001b[0m\u001b[0msql_ctx\u001b[0m\u001b[1;33m)\u001b[0m\u001b[1;33m\u001b[0m\u001b[1;33m\u001b[0m\u001b[0m\n\u001b[0;32m   1671\u001b[0m \u001b[1;33m\u001b[0m\u001b[0m\n",
      "\u001b[1;32mC:\\spark-3.1.1-bin-hadoop2.7\\python\\lib\\py4j-0.10.9-src.zip\\py4j\\java_gateway.py\u001b[0m in \u001b[0;36m__call__\u001b[1;34m(self, *args)\u001b[0m\n\u001b[0;32m   1302\u001b[0m \u001b[1;33m\u001b[0m\u001b[0m\n\u001b[0;32m   1303\u001b[0m         \u001b[0manswer\u001b[0m \u001b[1;33m=\u001b[0m \u001b[0mself\u001b[0m\u001b[1;33m.\u001b[0m\u001b[0mgateway_client\u001b[0m\u001b[1;33m.\u001b[0m\u001b[0msend_command\u001b[0m\u001b[1;33m(\u001b[0m\u001b[0mcommand\u001b[0m\u001b[1;33m)\u001b[0m\u001b[1;33m\u001b[0m\u001b[1;33m\u001b[0m\u001b[0m\n\u001b[1;32m-> 1304\u001b[1;33m         return_value = get_return_value(\n\u001b[0m\u001b[0;32m   1305\u001b[0m             answer, self.gateway_client, self.target_id, self.name)\n\u001b[0;32m   1306\u001b[0m \u001b[1;33m\u001b[0m\u001b[0m\n",
      "\u001b[1;32mC:\\spark-3.1.1-bin-hadoop2.7\\python\\pyspark\\sql\\utils.py\u001b[0m in \u001b[0;36mdeco\u001b[1;34m(*a, **kw)\u001b[0m\n\u001b[0;32m    115\u001b[0m                 \u001b[1;31m# Hide where the exception came from that shows a non-Pythonic\u001b[0m\u001b[1;33m\u001b[0m\u001b[1;33m\u001b[0m\u001b[1;33m\u001b[0m\u001b[0m\n\u001b[0;32m    116\u001b[0m                 \u001b[1;31m# JVM exception message.\u001b[0m\u001b[1;33m\u001b[0m\u001b[1;33m\u001b[0m\u001b[1;33m\u001b[0m\u001b[0m\n\u001b[1;32m--> 117\u001b[1;33m                 \u001b[1;32mraise\u001b[0m \u001b[0mconverted\u001b[0m \u001b[1;32mfrom\u001b[0m \u001b[1;32mNone\u001b[0m\u001b[1;33m\u001b[0m\u001b[1;33m\u001b[0m\u001b[0m\n\u001b[0m\u001b[0;32m    118\u001b[0m             \u001b[1;32melse\u001b[0m\u001b[1;33m:\u001b[0m\u001b[1;33m\u001b[0m\u001b[1;33m\u001b[0m\u001b[0m\n\u001b[0;32m    119\u001b[0m                 \u001b[1;32mraise\u001b[0m\u001b[1;33m\u001b[0m\u001b[1;33m\u001b[0m\u001b[0m\n",
      "\u001b[1;31mAnalysisException\u001b[0m: cannot resolve '`firstname`' given input columns: [AMT_ANNUITY, AMT_CREDIT, AMT_INCOME_TOTAL, CNT_CHILDREN, CNT_FAM_MEMBERS, CODE_GENDER, DAYS_BIRTH, DAYS_EMPLOYED, FLAG_CONT_MOBILE, FLAG_DOCUMENT_10, FLAG_DOCUMENT_11, FLAG_DOCUMENT_12, FLAG_DOCUMENT_2, FLAG_DOCUMENT_3, FLAG_DOCUMENT_4, FLAG_DOCUMENT_5, FLAG_DOCUMENT_6, FLAG_DOCUMENT_7, FLAG_DOCUMENT_8, FLAG_DOCUMENT_9, FLAG_EMP_PHONE, FLAG_MOBIL, FLAG_OWN_CAR, FLAG_OWN_REALTY, FLAG_PHONE, FLAG_WORK_PHONE, NAME_CONTRACT_TYPE, NAME_EDUCATION_TYPE, NAME_FAMILY_STATUS, NAME_HOUSING_TYPE, NAME_INCOME_TYPE, ORGANIZATION_TYPE, REGION_RATING_CLIENT, REGION_RATING_CLIENT_W_CITY, REG_REGION_NOT_LIVE_REGION, REG_REGION_NOT_WORK_REGION, TARGET];\n'Project ['firstname, 'lastname]\n+- Project [TARGET#16, NAME_CONTRACT_TYPE#17, CODE_GENDER#18, FLAG_OWN_CAR#19, FLAG_OWN_REALTY#20, CNT_CHILDREN#21, AMT_INCOME_TOTAL#22, AMT_CREDIT#23, AMT_ANNUITY#1983, NAME_INCOME_TYPE#25, NAME_EDUCATION_TYPE#26, NAME_FAMILY_STATUS#27, NAME_HOUSING_TYPE#28, DAYS_BIRTH#29, DAYS_EMPLOYED#30, FLAG_MOBIL#31, FLAG_EMP_PHONE#32, FLAG_WORK_PHONE#33, FLAG_CONT_MOBILE#34, FLAG_PHONE#35, coalesce(CNT_FAM_MEMBERS#36, cast(0 as int)) AS CNT_FAM_MEMBERS#2058, REGION_RATING_CLIENT#37, REGION_RATING_CLIENT_W_CITY#38, REG_REGION_NOT_LIVE_REGION#39, ... 13 more fields]\n   +- Project [TARGET#16, NAME_CONTRACT_TYPE#17, CODE_GENDER#18, FLAG_OWN_CAR#19, FLAG_OWN_REALTY#20, CNT_CHILDREN#21, AMT_INCOME_TOTAL#22, AMT_CREDIT#23, coalesce(nanvl(AMT_ANNUITY#24, cast(null as double)), cast(4 as double)) AS AMT_ANNUITY#1983, NAME_INCOME_TYPE#25, NAME_EDUCATION_TYPE#26, NAME_FAMILY_STATUS#27, NAME_HOUSING_TYPE#28, DAYS_BIRTH#29, DAYS_EMPLOYED#30, FLAG_MOBIL#31, FLAG_EMP_PHONE#32, FLAG_WORK_PHONE#33, FLAG_CONT_MOBILE#34, FLAG_PHONE#35, CNT_FAM_MEMBERS#36, REGION_RATING_CLIENT#37, REGION_RATING_CLIENT_W_CITY#38, REG_REGION_NOT_LIVE_REGION#39, ... 13 more fields]\n      +- Relation[TARGET#16,NAME_CONTRACT_TYPE#17,CODE_GENDER#18,FLAG_OWN_CAR#19,FLAG_OWN_REALTY#20,CNT_CHILDREN#21,AMT_INCOME_TOTAL#22,AMT_CREDIT#23,AMT_ANNUITY#24,NAME_INCOME_TYPE#25,NAME_EDUCATION_TYPE#26,NAME_FAMILY_STATUS#27,NAME_HOUSING_TYPE#28,DAYS_BIRTH#29,DAYS_EMPLOYED#30,FLAG_MOBIL#31,FLAG_EMP_PHONE#32,FLAG_WORK_PHONE#33,FLAG_CONT_MOBILE#34,FLAG_PHONE#35,CNT_FAM_MEMBERS#36,REGION_RATING_CLIENT#37,REGION_RATING_CLIENT_W_CITY#38,REG_REGION_NOT_LIVE_REGION#39,... 13 more fields] csv\n"
     ]
    }
   ],
   "source": [
    "df.select([\"firstname\",\"lastname\"])"
   ]
  },
  {
   "cell_type": "code",
   "execution_count": 45,
   "id": "military-hypothetical",
   "metadata": {},
   "outputs": [
    {
     "ename": "AnalysisException",
     "evalue": "cannot resolve '`firstname`' given input columns: [AMT_ANNUITY, AMT_CREDIT, AMT_INCOME_TOTAL, CNT_CHILDREN, CNT_FAM_MEMBERS, CODE_GENDER, DAYS_BIRTH, DAYS_EMPLOYED, FLAG_CONT_MOBILE, FLAG_DOCUMENT_10, FLAG_DOCUMENT_11, FLAG_DOCUMENT_12, FLAG_DOCUMENT_2, FLAG_DOCUMENT_3, FLAG_DOCUMENT_4, FLAG_DOCUMENT_5, FLAG_DOCUMENT_6, FLAG_DOCUMENT_7, FLAG_DOCUMENT_8, FLAG_DOCUMENT_9, FLAG_EMP_PHONE, FLAG_MOBIL, FLAG_OWN_CAR, FLAG_OWN_REALTY, FLAG_PHONE, FLAG_WORK_PHONE, NAME_CONTRACT_TYPE, NAME_EDUCATION_TYPE, NAME_FAMILY_STATUS, NAME_HOUSING_TYPE, NAME_INCOME_TYPE, ORGANIZATION_TYPE, REGION_RATING_CLIENT, REGION_RATING_CLIENT_W_CITY, REG_REGION_NOT_LIVE_REGION, REG_REGION_NOT_WORK_REGION, TARGET];\n'Project ['firstname, 'lastname]\n+- Project [TARGET#16, NAME_CONTRACT_TYPE#17, CODE_GENDER#18, FLAG_OWN_CAR#19, FLAG_OWN_REALTY#20, CNT_CHILDREN#21, AMT_INCOME_TOTAL#22, AMT_CREDIT#23, AMT_ANNUITY#1983, NAME_INCOME_TYPE#25, NAME_EDUCATION_TYPE#26, NAME_FAMILY_STATUS#27, NAME_HOUSING_TYPE#28, DAYS_BIRTH#29, DAYS_EMPLOYED#30, FLAG_MOBIL#31, FLAG_EMP_PHONE#32, FLAG_WORK_PHONE#33, FLAG_CONT_MOBILE#34, FLAG_PHONE#35, coalesce(CNT_FAM_MEMBERS#36, cast(0 as int)) AS CNT_FAM_MEMBERS#2058, REGION_RATING_CLIENT#37, REGION_RATING_CLIENT_W_CITY#38, REG_REGION_NOT_LIVE_REGION#39, ... 13 more fields]\n   +- Project [TARGET#16, NAME_CONTRACT_TYPE#17, CODE_GENDER#18, FLAG_OWN_CAR#19, FLAG_OWN_REALTY#20, CNT_CHILDREN#21, AMT_INCOME_TOTAL#22, AMT_CREDIT#23, coalesce(nanvl(AMT_ANNUITY#24, cast(null as double)), cast(4 as double)) AS AMT_ANNUITY#1983, NAME_INCOME_TYPE#25, NAME_EDUCATION_TYPE#26, NAME_FAMILY_STATUS#27, NAME_HOUSING_TYPE#28, DAYS_BIRTH#29, DAYS_EMPLOYED#30, FLAG_MOBIL#31, FLAG_EMP_PHONE#32, FLAG_WORK_PHONE#33, FLAG_CONT_MOBILE#34, FLAG_PHONE#35, CNT_FAM_MEMBERS#36, REGION_RATING_CLIENT#37, REGION_RATING_CLIENT_W_CITY#38, REG_REGION_NOT_LIVE_REGION#39, ... 13 more fields]\n      +- Relation[TARGET#16,NAME_CONTRACT_TYPE#17,CODE_GENDER#18,FLAG_OWN_CAR#19,FLAG_OWN_REALTY#20,CNT_CHILDREN#21,AMT_INCOME_TOTAL#22,AMT_CREDIT#23,AMT_ANNUITY#24,NAME_INCOME_TYPE#25,NAME_EDUCATION_TYPE#26,NAME_FAMILY_STATUS#27,NAME_HOUSING_TYPE#28,DAYS_BIRTH#29,DAYS_EMPLOYED#30,FLAG_MOBIL#31,FLAG_EMP_PHONE#32,FLAG_WORK_PHONE#33,FLAG_CONT_MOBILE#34,FLAG_PHONE#35,CNT_FAM_MEMBERS#36,REGION_RATING_CLIENT#37,REGION_RATING_CLIENT_W_CITY#38,REG_REGION_NOT_LIVE_REGION#39,... 13 more fields] csv\n",
     "output_type": "error",
     "traceback": [
      "\u001b[1;31m---------------------------------------------------------------------------\u001b[0m",
      "\u001b[1;31mAnalysisException\u001b[0m                         Traceback (most recent call last)",
      "\u001b[1;32m<ipython-input-45-4f1263bfbb89>\u001b[0m in \u001b[0;36m<module>\u001b[1;34m\u001b[0m\n\u001b[0;32m      1\u001b[0m \u001b[1;32mfrom\u001b[0m \u001b[0mpyspark\u001b[0m\u001b[1;33m.\u001b[0m\u001b[0msql\u001b[0m\u001b[1;33m.\u001b[0m\u001b[0mfunctions\u001b[0m \u001b[1;32mimport\u001b[0m \u001b[0mcol\u001b[0m\u001b[1;33m\u001b[0m\u001b[1;33m\u001b[0m\u001b[0m\n\u001b[1;32m----> 2\u001b[1;33m \u001b[0mdf\u001b[0m\u001b[1;33m.\u001b[0m\u001b[0mselect\u001b[0m\u001b[1;33m(\u001b[0m\u001b[0mcol\u001b[0m\u001b[1;33m(\u001b[0m\u001b[1;34m\"firstname\"\u001b[0m\u001b[1;33m)\u001b[0m\u001b[1;33m,\u001b[0m\u001b[0mcol\u001b[0m\u001b[1;33m(\u001b[0m\u001b[1;34m\"lastname\"\u001b[0m\u001b[1;33m)\u001b[0m\u001b[1;33m)\u001b[0m\u001b[1;33m\u001b[0m\u001b[1;33m\u001b[0m\u001b[0m\n\u001b[0m",
      "\u001b[1;32mC:\\spark-3.1.1-bin-hadoop2.7\\python\\pyspark\\sql\\dataframe.py\u001b[0m in \u001b[0;36mselect\u001b[1;34m(self, *cols)\u001b[0m\n\u001b[0;32m   1667\u001b[0m         \u001b[1;33m[\u001b[0m\u001b[0mRow\u001b[0m\u001b[1;33m(\u001b[0m\u001b[0mname\u001b[0m\u001b[1;33m=\u001b[0m\u001b[1;34m'Alice'\u001b[0m\u001b[1;33m,\u001b[0m \u001b[0mage\u001b[0m\u001b[1;33m=\u001b[0m\u001b[1;36m12\u001b[0m\u001b[1;33m)\u001b[0m\u001b[1;33m,\u001b[0m \u001b[0mRow\u001b[0m\u001b[1;33m(\u001b[0m\u001b[0mname\u001b[0m\u001b[1;33m=\u001b[0m\u001b[1;34m'Bob'\u001b[0m\u001b[1;33m,\u001b[0m \u001b[0mage\u001b[0m\u001b[1;33m=\u001b[0m\u001b[1;36m15\u001b[0m\u001b[1;33m)\u001b[0m\u001b[1;33m]\u001b[0m\u001b[1;33m\u001b[0m\u001b[1;33m\u001b[0m\u001b[0m\n\u001b[0;32m   1668\u001b[0m         \"\"\"\n\u001b[1;32m-> 1669\u001b[1;33m         \u001b[0mjdf\u001b[0m \u001b[1;33m=\u001b[0m \u001b[0mself\u001b[0m\u001b[1;33m.\u001b[0m\u001b[0m_jdf\u001b[0m\u001b[1;33m.\u001b[0m\u001b[0mselect\u001b[0m\u001b[1;33m(\u001b[0m\u001b[0mself\u001b[0m\u001b[1;33m.\u001b[0m\u001b[0m_jcols\u001b[0m\u001b[1;33m(\u001b[0m\u001b[1;33m*\u001b[0m\u001b[0mcols\u001b[0m\u001b[1;33m)\u001b[0m\u001b[1;33m)\u001b[0m\u001b[1;33m\u001b[0m\u001b[1;33m\u001b[0m\u001b[0m\n\u001b[0m\u001b[0;32m   1670\u001b[0m         \u001b[1;32mreturn\u001b[0m \u001b[0mDataFrame\u001b[0m\u001b[1;33m(\u001b[0m\u001b[0mjdf\u001b[0m\u001b[1;33m,\u001b[0m \u001b[0mself\u001b[0m\u001b[1;33m.\u001b[0m\u001b[0msql_ctx\u001b[0m\u001b[1;33m)\u001b[0m\u001b[1;33m\u001b[0m\u001b[1;33m\u001b[0m\u001b[0m\n\u001b[0;32m   1671\u001b[0m \u001b[1;33m\u001b[0m\u001b[0m\n",
      "\u001b[1;32mC:\\spark-3.1.1-bin-hadoop2.7\\python\\lib\\py4j-0.10.9-src.zip\\py4j\\java_gateway.py\u001b[0m in \u001b[0;36m__call__\u001b[1;34m(self, *args)\u001b[0m\n\u001b[0;32m   1302\u001b[0m \u001b[1;33m\u001b[0m\u001b[0m\n\u001b[0;32m   1303\u001b[0m         \u001b[0manswer\u001b[0m \u001b[1;33m=\u001b[0m \u001b[0mself\u001b[0m\u001b[1;33m.\u001b[0m\u001b[0mgateway_client\u001b[0m\u001b[1;33m.\u001b[0m\u001b[0msend_command\u001b[0m\u001b[1;33m(\u001b[0m\u001b[0mcommand\u001b[0m\u001b[1;33m)\u001b[0m\u001b[1;33m\u001b[0m\u001b[1;33m\u001b[0m\u001b[0m\n\u001b[1;32m-> 1304\u001b[1;33m         return_value = get_return_value(\n\u001b[0m\u001b[0;32m   1305\u001b[0m             answer, self.gateway_client, self.target_id, self.name)\n\u001b[0;32m   1306\u001b[0m \u001b[1;33m\u001b[0m\u001b[0m\n",
      "\u001b[1;32mC:\\spark-3.1.1-bin-hadoop2.7\\python\\pyspark\\sql\\utils.py\u001b[0m in \u001b[0;36mdeco\u001b[1;34m(*a, **kw)\u001b[0m\n\u001b[0;32m    115\u001b[0m                 \u001b[1;31m# Hide where the exception came from that shows a non-Pythonic\u001b[0m\u001b[1;33m\u001b[0m\u001b[1;33m\u001b[0m\u001b[1;33m\u001b[0m\u001b[0m\n\u001b[0;32m    116\u001b[0m                 \u001b[1;31m# JVM exception message.\u001b[0m\u001b[1;33m\u001b[0m\u001b[1;33m\u001b[0m\u001b[1;33m\u001b[0m\u001b[0m\n\u001b[1;32m--> 117\u001b[1;33m                 \u001b[1;32mraise\u001b[0m \u001b[0mconverted\u001b[0m \u001b[1;32mfrom\u001b[0m \u001b[1;32mNone\u001b[0m\u001b[1;33m\u001b[0m\u001b[1;33m\u001b[0m\u001b[0m\n\u001b[0m\u001b[0;32m    118\u001b[0m             \u001b[1;32melse\u001b[0m\u001b[1;33m:\u001b[0m\u001b[1;33m\u001b[0m\u001b[1;33m\u001b[0m\u001b[0m\n\u001b[0;32m    119\u001b[0m                 \u001b[1;32mraise\u001b[0m\u001b[1;33m\u001b[0m\u001b[1;33m\u001b[0m\u001b[0m\n",
      "\u001b[1;31mAnalysisException\u001b[0m: cannot resolve '`firstname`' given input columns: [AMT_ANNUITY, AMT_CREDIT, AMT_INCOME_TOTAL, CNT_CHILDREN, CNT_FAM_MEMBERS, CODE_GENDER, DAYS_BIRTH, DAYS_EMPLOYED, FLAG_CONT_MOBILE, FLAG_DOCUMENT_10, FLAG_DOCUMENT_11, FLAG_DOCUMENT_12, FLAG_DOCUMENT_2, FLAG_DOCUMENT_3, FLAG_DOCUMENT_4, FLAG_DOCUMENT_5, FLAG_DOCUMENT_6, FLAG_DOCUMENT_7, FLAG_DOCUMENT_8, FLAG_DOCUMENT_9, FLAG_EMP_PHONE, FLAG_MOBIL, FLAG_OWN_CAR, FLAG_OWN_REALTY, FLAG_PHONE, FLAG_WORK_PHONE, NAME_CONTRACT_TYPE, NAME_EDUCATION_TYPE, NAME_FAMILY_STATUS, NAME_HOUSING_TYPE, NAME_INCOME_TYPE, ORGANIZATION_TYPE, REGION_RATING_CLIENT, REGION_RATING_CLIENT_W_CITY, REG_REGION_NOT_LIVE_REGION, REG_REGION_NOT_WORK_REGION, TARGET];\n'Project ['firstname, 'lastname]\n+- Project [TARGET#16, NAME_CONTRACT_TYPE#17, CODE_GENDER#18, FLAG_OWN_CAR#19, FLAG_OWN_REALTY#20, CNT_CHILDREN#21, AMT_INCOME_TOTAL#22, AMT_CREDIT#23, AMT_ANNUITY#1983, NAME_INCOME_TYPE#25, NAME_EDUCATION_TYPE#26, NAME_FAMILY_STATUS#27, NAME_HOUSING_TYPE#28, DAYS_BIRTH#29, DAYS_EMPLOYED#30, FLAG_MOBIL#31, FLAG_EMP_PHONE#32, FLAG_WORK_PHONE#33, FLAG_CONT_MOBILE#34, FLAG_PHONE#35, coalesce(CNT_FAM_MEMBERS#36, cast(0 as int)) AS CNT_FAM_MEMBERS#2058, REGION_RATING_CLIENT#37, REGION_RATING_CLIENT_W_CITY#38, REG_REGION_NOT_LIVE_REGION#39, ... 13 more fields]\n   +- Project [TARGET#16, NAME_CONTRACT_TYPE#17, CODE_GENDER#18, FLAG_OWN_CAR#19, FLAG_OWN_REALTY#20, CNT_CHILDREN#21, AMT_INCOME_TOTAL#22, AMT_CREDIT#23, coalesce(nanvl(AMT_ANNUITY#24, cast(null as double)), cast(4 as double)) AS AMT_ANNUITY#1983, NAME_INCOME_TYPE#25, NAME_EDUCATION_TYPE#26, NAME_FAMILY_STATUS#27, NAME_HOUSING_TYPE#28, DAYS_BIRTH#29, DAYS_EMPLOYED#30, FLAG_MOBIL#31, FLAG_EMP_PHONE#32, FLAG_WORK_PHONE#33, FLAG_CONT_MOBILE#34, FLAG_PHONE#35, CNT_FAM_MEMBERS#36, REGION_RATING_CLIENT#37, REGION_RATING_CLIENT_W_CITY#38, REG_REGION_NOT_LIVE_REGION#39, ... 13 more fields]\n      +- Relation[TARGET#16,NAME_CONTRACT_TYPE#17,CODE_GENDER#18,FLAG_OWN_CAR#19,FLAG_OWN_REALTY#20,CNT_CHILDREN#21,AMT_INCOME_TOTAL#22,AMT_CREDIT#23,AMT_ANNUITY#24,NAME_INCOME_TYPE#25,NAME_EDUCATION_TYPE#26,NAME_FAMILY_STATUS#27,NAME_HOUSING_TYPE#28,DAYS_BIRTH#29,DAYS_EMPLOYED#30,FLAG_MOBIL#31,FLAG_EMP_PHONE#32,FLAG_WORK_PHONE#33,FLAG_CONT_MOBILE#34,FLAG_PHONE#35,CNT_FAM_MEMBERS#36,REGION_RATING_CLIENT#37,REGION_RATING_CLIENT_W_CITY#38,REG_REGION_NOT_LIVE_REGION#39,... 13 more fields] csv\n"
     ]
    }
   ],
   "source": [
    "from pyspark.sql.functions import col \n",
    "df.select(col(\"firstname\"),col(\"lastname\"))"
   ]
  },
  {
   "cell_type": "code",
   "execution_count": 46,
   "id": "surface-pharmacy",
   "metadata": {},
   "outputs": [
    {
     "ename": "AnalysisException",
     "evalue": "cannot resolve '`firstname`' given input columns: [AMT_ANNUITY, AMT_CREDIT, AMT_INCOME_TOTAL, CNT_CHILDREN, CNT_FAM_MEMBERS, CODE_GENDER, DAYS_BIRTH, DAYS_EMPLOYED, FLAG_CONT_MOBILE, FLAG_DOCUMENT_10, FLAG_DOCUMENT_11, FLAG_DOCUMENT_12, FLAG_DOCUMENT_2, FLAG_DOCUMENT_3, FLAG_DOCUMENT_4, FLAG_DOCUMENT_5, FLAG_DOCUMENT_6, FLAG_DOCUMENT_7, FLAG_DOCUMENT_8, FLAG_DOCUMENT_9, FLAG_EMP_PHONE, FLAG_MOBIL, FLAG_OWN_CAR, FLAG_OWN_REALTY, FLAG_PHONE, FLAG_WORK_PHONE, NAME_CONTRACT_TYPE, NAME_EDUCATION_TYPE, NAME_FAMILY_STATUS, NAME_HOUSING_TYPE, NAME_INCOME_TYPE, ORGANIZATION_TYPE, REGION_RATING_CLIENT, REGION_RATING_CLIENT_W_CITY, REG_REGION_NOT_LIVE_REGION, REG_REGION_NOT_WORK_REGION, TARGET];\n'Project ['firstname, 'lastname]\n+- Project [TARGET#16, NAME_CONTRACT_TYPE#17, CODE_GENDER#18, FLAG_OWN_CAR#19, FLAG_OWN_REALTY#20, CNT_CHILDREN#21, AMT_INCOME_TOTAL#22, AMT_CREDIT#23, AMT_ANNUITY#1983, NAME_INCOME_TYPE#25, NAME_EDUCATION_TYPE#26, NAME_FAMILY_STATUS#27, NAME_HOUSING_TYPE#28, DAYS_BIRTH#29, DAYS_EMPLOYED#30, FLAG_MOBIL#31, FLAG_EMP_PHONE#32, FLAG_WORK_PHONE#33, FLAG_CONT_MOBILE#34, FLAG_PHONE#35, coalesce(CNT_FAM_MEMBERS#36, cast(0 as int)) AS CNT_FAM_MEMBERS#2058, REGION_RATING_CLIENT#37, REGION_RATING_CLIENT_W_CITY#38, REG_REGION_NOT_LIVE_REGION#39, ... 13 more fields]\n   +- Project [TARGET#16, NAME_CONTRACT_TYPE#17, CODE_GENDER#18, FLAG_OWN_CAR#19, FLAG_OWN_REALTY#20, CNT_CHILDREN#21, AMT_INCOME_TOTAL#22, AMT_CREDIT#23, coalesce(nanvl(AMT_ANNUITY#24, cast(null as double)), cast(4 as double)) AS AMT_ANNUITY#1983, NAME_INCOME_TYPE#25, NAME_EDUCATION_TYPE#26, NAME_FAMILY_STATUS#27, NAME_HOUSING_TYPE#28, DAYS_BIRTH#29, DAYS_EMPLOYED#30, FLAG_MOBIL#31, FLAG_EMP_PHONE#32, FLAG_WORK_PHONE#33, FLAG_CONT_MOBILE#34, FLAG_PHONE#35, CNT_FAM_MEMBERS#36, REGION_RATING_CLIENT#37, REGION_RATING_CLIENT_W_CITY#38, REG_REGION_NOT_LIVE_REGION#39, ... 13 more fields]\n      +- Relation[TARGET#16,NAME_CONTRACT_TYPE#17,CODE_GENDER#18,FLAG_OWN_CAR#19,FLAG_OWN_REALTY#20,CNT_CHILDREN#21,AMT_INCOME_TOTAL#22,AMT_CREDIT#23,AMT_ANNUITY#24,NAME_INCOME_TYPE#25,NAME_EDUCATION_TYPE#26,NAME_FAMILY_STATUS#27,NAME_HOUSING_TYPE#28,DAYS_BIRTH#29,DAYS_EMPLOYED#30,FLAG_MOBIL#31,FLAG_EMP_PHONE#32,FLAG_WORK_PHONE#33,FLAG_CONT_MOBILE#34,FLAG_PHONE#35,CNT_FAM_MEMBERS#36,REGION_RATING_CLIENT#37,REGION_RATING_CLIENT_W_CITY#38,REG_REGION_NOT_LIVE_REGION#39,... 13 more fields] csv\n",
     "output_type": "error",
     "traceback": [
      "\u001b[1;31m---------------------------------------------------------------------------\u001b[0m",
      "\u001b[1;31mAnalysisException\u001b[0m                         Traceback (most recent call last)",
      "\u001b[1;32m<ipython-input-46-67341f8dd444>\u001b[0m in \u001b[0;36m<module>\u001b[1;34m\u001b[0m\n\u001b[1;32m----> 1\u001b[1;33m \u001b[0mdf\u001b[0m\u001b[1;33m.\u001b[0m\u001b[0mselect\u001b[0m\u001b[1;33m(\u001b[0m\u001b[1;34m\"firstname\"\u001b[0m\u001b[1;33m,\u001b[0m\u001b[1;34m\"lastname\"\u001b[0m\u001b[1;33m)\u001b[0m\u001b[1;33m\u001b[0m\u001b[1;33m\u001b[0m\u001b[0m\n\u001b[0m",
      "\u001b[1;32mC:\\spark-3.1.1-bin-hadoop2.7\\python\\pyspark\\sql\\dataframe.py\u001b[0m in \u001b[0;36mselect\u001b[1;34m(self, *cols)\u001b[0m\n\u001b[0;32m   1667\u001b[0m         \u001b[1;33m[\u001b[0m\u001b[0mRow\u001b[0m\u001b[1;33m(\u001b[0m\u001b[0mname\u001b[0m\u001b[1;33m=\u001b[0m\u001b[1;34m'Alice'\u001b[0m\u001b[1;33m,\u001b[0m \u001b[0mage\u001b[0m\u001b[1;33m=\u001b[0m\u001b[1;36m12\u001b[0m\u001b[1;33m)\u001b[0m\u001b[1;33m,\u001b[0m \u001b[0mRow\u001b[0m\u001b[1;33m(\u001b[0m\u001b[0mname\u001b[0m\u001b[1;33m=\u001b[0m\u001b[1;34m'Bob'\u001b[0m\u001b[1;33m,\u001b[0m \u001b[0mage\u001b[0m\u001b[1;33m=\u001b[0m\u001b[1;36m15\u001b[0m\u001b[1;33m)\u001b[0m\u001b[1;33m]\u001b[0m\u001b[1;33m\u001b[0m\u001b[1;33m\u001b[0m\u001b[0m\n\u001b[0;32m   1668\u001b[0m         \"\"\"\n\u001b[1;32m-> 1669\u001b[1;33m         \u001b[0mjdf\u001b[0m \u001b[1;33m=\u001b[0m \u001b[0mself\u001b[0m\u001b[1;33m.\u001b[0m\u001b[0m_jdf\u001b[0m\u001b[1;33m.\u001b[0m\u001b[0mselect\u001b[0m\u001b[1;33m(\u001b[0m\u001b[0mself\u001b[0m\u001b[1;33m.\u001b[0m\u001b[0m_jcols\u001b[0m\u001b[1;33m(\u001b[0m\u001b[1;33m*\u001b[0m\u001b[0mcols\u001b[0m\u001b[1;33m)\u001b[0m\u001b[1;33m)\u001b[0m\u001b[1;33m\u001b[0m\u001b[1;33m\u001b[0m\u001b[0m\n\u001b[0m\u001b[0;32m   1670\u001b[0m         \u001b[1;32mreturn\u001b[0m \u001b[0mDataFrame\u001b[0m\u001b[1;33m(\u001b[0m\u001b[0mjdf\u001b[0m\u001b[1;33m,\u001b[0m \u001b[0mself\u001b[0m\u001b[1;33m.\u001b[0m\u001b[0msql_ctx\u001b[0m\u001b[1;33m)\u001b[0m\u001b[1;33m\u001b[0m\u001b[1;33m\u001b[0m\u001b[0m\n\u001b[0;32m   1671\u001b[0m \u001b[1;33m\u001b[0m\u001b[0m\n",
      "\u001b[1;32mC:\\spark-3.1.1-bin-hadoop2.7\\python\\lib\\py4j-0.10.9-src.zip\\py4j\\java_gateway.py\u001b[0m in \u001b[0;36m__call__\u001b[1;34m(self, *args)\u001b[0m\n\u001b[0;32m   1302\u001b[0m \u001b[1;33m\u001b[0m\u001b[0m\n\u001b[0;32m   1303\u001b[0m         \u001b[0manswer\u001b[0m \u001b[1;33m=\u001b[0m \u001b[0mself\u001b[0m\u001b[1;33m.\u001b[0m\u001b[0mgateway_client\u001b[0m\u001b[1;33m.\u001b[0m\u001b[0msend_command\u001b[0m\u001b[1;33m(\u001b[0m\u001b[0mcommand\u001b[0m\u001b[1;33m)\u001b[0m\u001b[1;33m\u001b[0m\u001b[1;33m\u001b[0m\u001b[0m\n\u001b[1;32m-> 1304\u001b[1;33m         return_value = get_return_value(\n\u001b[0m\u001b[0;32m   1305\u001b[0m             answer, self.gateway_client, self.target_id, self.name)\n\u001b[0;32m   1306\u001b[0m \u001b[1;33m\u001b[0m\u001b[0m\n",
      "\u001b[1;32mC:\\spark-3.1.1-bin-hadoop2.7\\python\\pyspark\\sql\\utils.py\u001b[0m in \u001b[0;36mdeco\u001b[1;34m(*a, **kw)\u001b[0m\n\u001b[0;32m    115\u001b[0m                 \u001b[1;31m# Hide where the exception came from that shows a non-Pythonic\u001b[0m\u001b[1;33m\u001b[0m\u001b[1;33m\u001b[0m\u001b[1;33m\u001b[0m\u001b[0m\n\u001b[0;32m    116\u001b[0m                 \u001b[1;31m# JVM exception message.\u001b[0m\u001b[1;33m\u001b[0m\u001b[1;33m\u001b[0m\u001b[1;33m\u001b[0m\u001b[0m\n\u001b[1;32m--> 117\u001b[1;33m                 \u001b[1;32mraise\u001b[0m \u001b[0mconverted\u001b[0m \u001b[1;32mfrom\u001b[0m \u001b[1;32mNone\u001b[0m\u001b[1;33m\u001b[0m\u001b[1;33m\u001b[0m\u001b[0m\n\u001b[0m\u001b[0;32m    118\u001b[0m             \u001b[1;32melse\u001b[0m\u001b[1;33m:\u001b[0m\u001b[1;33m\u001b[0m\u001b[1;33m\u001b[0m\u001b[0m\n\u001b[0;32m    119\u001b[0m                 \u001b[1;32mraise\u001b[0m\u001b[1;33m\u001b[0m\u001b[1;33m\u001b[0m\u001b[0m\n",
      "\u001b[1;31mAnalysisException\u001b[0m: cannot resolve '`firstname`' given input columns: [AMT_ANNUITY, AMT_CREDIT, AMT_INCOME_TOTAL, CNT_CHILDREN, CNT_FAM_MEMBERS, CODE_GENDER, DAYS_BIRTH, DAYS_EMPLOYED, FLAG_CONT_MOBILE, FLAG_DOCUMENT_10, FLAG_DOCUMENT_11, FLAG_DOCUMENT_12, FLAG_DOCUMENT_2, FLAG_DOCUMENT_3, FLAG_DOCUMENT_4, FLAG_DOCUMENT_5, FLAG_DOCUMENT_6, FLAG_DOCUMENT_7, FLAG_DOCUMENT_8, FLAG_DOCUMENT_9, FLAG_EMP_PHONE, FLAG_MOBIL, FLAG_OWN_CAR, FLAG_OWN_REALTY, FLAG_PHONE, FLAG_WORK_PHONE, NAME_CONTRACT_TYPE, NAME_EDUCATION_TYPE, NAME_FAMILY_STATUS, NAME_HOUSING_TYPE, NAME_INCOME_TYPE, ORGANIZATION_TYPE, REGION_RATING_CLIENT, REGION_RATING_CLIENT_W_CITY, REG_REGION_NOT_LIVE_REGION, REG_REGION_NOT_WORK_REGION, TARGET];\n'Project ['firstname, 'lastname]\n+- Project [TARGET#16, NAME_CONTRACT_TYPE#17, CODE_GENDER#18, FLAG_OWN_CAR#19, FLAG_OWN_REALTY#20, CNT_CHILDREN#21, AMT_INCOME_TOTAL#22, AMT_CREDIT#23, AMT_ANNUITY#1983, NAME_INCOME_TYPE#25, NAME_EDUCATION_TYPE#26, NAME_FAMILY_STATUS#27, NAME_HOUSING_TYPE#28, DAYS_BIRTH#29, DAYS_EMPLOYED#30, FLAG_MOBIL#31, FLAG_EMP_PHONE#32, FLAG_WORK_PHONE#33, FLAG_CONT_MOBILE#34, FLAG_PHONE#35, coalesce(CNT_FAM_MEMBERS#36, cast(0 as int)) AS CNT_FAM_MEMBERS#2058, REGION_RATING_CLIENT#37, REGION_RATING_CLIENT_W_CITY#38, REG_REGION_NOT_LIVE_REGION#39, ... 13 more fields]\n   +- Project [TARGET#16, NAME_CONTRACT_TYPE#17, CODE_GENDER#18, FLAG_OWN_CAR#19, FLAG_OWN_REALTY#20, CNT_CHILDREN#21, AMT_INCOME_TOTAL#22, AMT_CREDIT#23, coalesce(nanvl(AMT_ANNUITY#24, cast(null as double)), cast(4 as double)) AS AMT_ANNUITY#1983, NAME_INCOME_TYPE#25, NAME_EDUCATION_TYPE#26, NAME_FAMILY_STATUS#27, NAME_HOUSING_TYPE#28, DAYS_BIRTH#29, DAYS_EMPLOYED#30, FLAG_MOBIL#31, FLAG_EMP_PHONE#32, FLAG_WORK_PHONE#33, FLAG_CONT_MOBILE#34, FLAG_PHONE#35, CNT_FAM_MEMBERS#36, REGION_RATING_CLIENT#37, REGION_RATING_CLIENT_W_CITY#38, REG_REGION_NOT_LIVE_REGION#39, ... 13 more fields]\n      +- Relation[TARGET#16,NAME_CONTRACT_TYPE#17,CODE_GENDER#18,FLAG_OWN_CAR#19,FLAG_OWN_REALTY#20,CNT_CHILDREN#21,AMT_INCOME_TOTAL#22,AMT_CREDIT#23,AMT_ANNUITY#24,NAME_INCOME_TYPE#25,NAME_EDUCATION_TYPE#26,NAME_FAMILY_STATUS#27,NAME_HOUSING_TYPE#28,DAYS_BIRTH#29,DAYS_EMPLOYED#30,FLAG_MOBIL#31,FLAG_EMP_PHONE#32,FLAG_WORK_PHONE#33,FLAG_CONT_MOBILE#34,FLAG_PHONE#35,CNT_FAM_MEMBERS#36,REGION_RATING_CLIENT#37,REGION_RATING_CLIENT_W_CITY#38,REG_REGION_NOT_LIVE_REGION#39,... 13 more fields] csv\n"
     ]
    }
   ],
   "source": [
    "df.select(\"firstname\",\"lastname\")"
   ]
  },
  {
   "cell_type": "code",
   "execution_count": 47,
   "id": "unnecessary-audience",
   "metadata": {},
   "outputs": [
    {
     "ename": "AttributeError",
     "evalue": "'DataFrame' object has no attribute 'firstname'",
     "output_type": "error",
     "traceback": [
      "\u001b[1;31m---------------------------------------------------------------------------\u001b[0m",
      "\u001b[1;31mAttributeError\u001b[0m                            Traceback (most recent call last)",
      "\u001b[1;32m<ipython-input-47-f36027058b93>\u001b[0m in \u001b[0;36m<module>\u001b[1;34m\u001b[0m\n\u001b[1;32m----> 1\u001b[1;33m \u001b[0mdf\u001b[0m\u001b[1;33m.\u001b[0m\u001b[0mselect\u001b[0m\u001b[1;33m(\u001b[0m\u001b[0mdf\u001b[0m\u001b[1;33m.\u001b[0m\u001b[0mfirstname\u001b[0m\u001b[1;33m,\u001b[0m\u001b[0mdf\u001b[0m\u001b[1;33m.\u001b[0m\u001b[0mlastname\u001b[0m\u001b[1;33m)\u001b[0m\u001b[1;33m\u001b[0m\u001b[1;33m\u001b[0m\u001b[0m\n\u001b[0m",
      "\u001b[1;32mC:\\spark-3.1.1-bin-hadoop2.7\\python\\pyspark\\sql\\dataframe.py\u001b[0m in \u001b[0;36m__getattr__\u001b[1;34m(self, name)\u001b[0m\n\u001b[0;32m   1641\u001b[0m         \"\"\"\n\u001b[0;32m   1642\u001b[0m         \u001b[1;32mif\u001b[0m \u001b[0mname\u001b[0m \u001b[1;32mnot\u001b[0m \u001b[1;32min\u001b[0m \u001b[0mself\u001b[0m\u001b[1;33m.\u001b[0m\u001b[0mcolumns\u001b[0m\u001b[1;33m:\u001b[0m\u001b[1;33m\u001b[0m\u001b[1;33m\u001b[0m\u001b[0m\n\u001b[1;32m-> 1643\u001b[1;33m             raise AttributeError(\n\u001b[0m\u001b[0;32m   1644\u001b[0m                 \"'%s' object has no attribute '%s'\" % (self.__class__.__name__, name))\n\u001b[0;32m   1645\u001b[0m         \u001b[0mjc\u001b[0m \u001b[1;33m=\u001b[0m \u001b[0mself\u001b[0m\u001b[1;33m.\u001b[0m\u001b[0m_jdf\u001b[0m\u001b[1;33m.\u001b[0m\u001b[0mapply\u001b[0m\u001b[1;33m(\u001b[0m\u001b[0mname\u001b[0m\u001b[1;33m)\u001b[0m\u001b[1;33m\u001b[0m\u001b[1;33m\u001b[0m\u001b[0m\n",
      "\u001b[1;31mAttributeError\u001b[0m: 'DataFrame' object has no attribute 'firstname'"
     ]
    }
   ],
   "source": [
    "df.select(df.firstname,df.lastname)"
   ]
  },
  {
   "cell_type": "code",
   "execution_count": 48,
   "id": "simple-wrestling",
   "metadata": {},
   "outputs": [
    {
     "ename": "AnalysisException",
     "evalue": "cannot resolve '`employee_name`' given input columns: [emp.AMT_ANNUITY, emp.AMT_CREDIT, emp.AMT_INCOME_TOTAL, emp.CNT_CHILDREN, emp.CNT_FAM_MEMBERS, emp.CODE_GENDER, emp.DAYS_BIRTH, emp.DAYS_EMPLOYED, emp.FLAG_CONT_MOBILE, emp.FLAG_DOCUMENT_10, emp.FLAG_DOCUMENT_11, emp.FLAG_DOCUMENT_12, emp.FLAG_DOCUMENT_2, emp.FLAG_DOCUMENT_3, emp.FLAG_DOCUMENT_4, emp.FLAG_DOCUMENT_5, emp.FLAG_DOCUMENT_6, emp.FLAG_DOCUMENT_7, emp.FLAG_DOCUMENT_8, emp.FLAG_DOCUMENT_9, emp.FLAG_EMP_PHONE, emp.FLAG_MOBIL, emp.FLAG_OWN_CAR, emp.FLAG_OWN_REALTY, emp.FLAG_PHONE, emp.FLAG_WORK_PHONE, emp.NAME_CONTRACT_TYPE, emp.NAME_EDUCATION_TYPE, emp.NAME_FAMILY_STATUS, emp.NAME_HOUSING_TYPE, emp.NAME_INCOME_TYPE, emp.ORGANIZATION_TYPE, emp.REGION_RATING_CLIENT, emp.REGION_RATING_CLIENT_W_CITY, emp.REG_REGION_NOT_LIVE_REGION, emp.REG_REGION_NOT_WORK_REGION, emp.TARGET]; line 1 pos 7;\n'Sort ['department ASC NULLS FIRST], true\n+- 'Project ['employee_name, 'department, 'state, 'salary, 'age, 'bonus]\n   +- SubqueryAlias emp\n      +- Project [TARGET#16, NAME_CONTRACT_TYPE#17, CODE_GENDER#18, FLAG_OWN_CAR#19, FLAG_OWN_REALTY#20, CNT_CHILDREN#21, AMT_INCOME_TOTAL#22, AMT_CREDIT#23, AMT_ANNUITY#1983, NAME_INCOME_TYPE#25, NAME_EDUCATION_TYPE#26, NAME_FAMILY_STATUS#27, NAME_HOUSING_TYPE#28, DAYS_BIRTH#29, DAYS_EMPLOYED#30, FLAG_MOBIL#31, FLAG_EMP_PHONE#32, FLAG_WORK_PHONE#33, FLAG_CONT_MOBILE#34, FLAG_PHONE#35, coalesce(CNT_FAM_MEMBERS#36, cast(0 as int)) AS CNT_FAM_MEMBERS#2058, REGION_RATING_CLIENT#37, REGION_RATING_CLIENT_W_CITY#38, REG_REGION_NOT_LIVE_REGION#39, ... 13 more fields]\n         +- Project [TARGET#16, NAME_CONTRACT_TYPE#17, CODE_GENDER#18, FLAG_OWN_CAR#19, FLAG_OWN_REALTY#20, CNT_CHILDREN#21, AMT_INCOME_TOTAL#22, AMT_CREDIT#23, coalesce(nanvl(AMT_ANNUITY#24, cast(null as double)), cast(4 as double)) AS AMT_ANNUITY#1983, NAME_INCOME_TYPE#25, NAME_EDUCATION_TYPE#26, NAME_FAMILY_STATUS#27, NAME_HOUSING_TYPE#28, DAYS_BIRTH#29, DAYS_EMPLOYED#30, FLAG_MOBIL#31, FLAG_EMP_PHONE#32, FLAG_WORK_PHONE#33, FLAG_CONT_MOBILE#34, FLAG_PHONE#35, CNT_FAM_MEMBERS#36, REGION_RATING_CLIENT#37, REGION_RATING_CLIENT_W_CITY#38, REG_REGION_NOT_LIVE_REGION#39, ... 13 more fields]\n            +- Relation[TARGET#16,NAME_CONTRACT_TYPE#17,CODE_GENDER#18,FLAG_OWN_CAR#19,FLAG_OWN_REALTY#20,CNT_CHILDREN#21,AMT_INCOME_TOTAL#22,AMT_CREDIT#23,AMT_ANNUITY#24,NAME_INCOME_TYPE#25,NAME_EDUCATION_TYPE#26,NAME_FAMILY_STATUS#27,NAME_HOUSING_TYPE#28,DAYS_BIRTH#29,DAYS_EMPLOYED#30,FLAG_MOBIL#31,FLAG_EMP_PHONE#32,FLAG_WORK_PHONE#33,FLAG_CONT_MOBILE#34,FLAG_PHONE#35,CNT_FAM_MEMBERS#36,REGION_RATING_CLIENT#37,REGION_RATING_CLIENT_W_CITY#38,REG_REGION_NOT_LIVE_REGION#39,... 13 more fields] csv\n",
     "output_type": "error",
     "traceback": [
      "\u001b[1;31m---------------------------------------------------------------------------\u001b[0m",
      "\u001b[1;31mAnalysisException\u001b[0m                         Traceback (most recent call last)",
      "\u001b[1;32m<ipython-input-48-3f53747249ed>\u001b[0m in \u001b[0;36m<module>\u001b[1;34m\u001b[0m\n\u001b[0;32m      1\u001b[0m \u001b[0mdf\u001b[0m\u001b[1;33m.\u001b[0m\u001b[0mcreateOrReplaceTempView\u001b[0m\u001b[1;33m(\u001b[0m\u001b[1;34m\"EMP\"\u001b[0m\u001b[1;33m)\u001b[0m\u001b[1;33m\u001b[0m\u001b[1;33m\u001b[0m\u001b[0m\n\u001b[1;32m----> 2\u001b[1;33m \u001b[0mspark\u001b[0m\u001b[1;33m.\u001b[0m\u001b[0msql\u001b[0m\u001b[1;33m(\u001b[0m\u001b[1;34m\"select employee_name,department,state,salary,age,bonus from EMP ORDER BY department asc\"\u001b[0m\u001b[1;33m)\u001b[0m\u001b[1;33m.\u001b[0m\u001b[0mshow\u001b[0m\u001b[1;33m(\u001b[0m\u001b[0mtruncate\u001b[0m\u001b[1;33m=\u001b[0m\u001b[1;32mFalse\u001b[0m\u001b[1;33m)\u001b[0m\u001b[1;33m\u001b[0m\u001b[1;33m\u001b[0m\u001b[0m\n\u001b[0m",
      "\u001b[1;32mC:\\spark-3.1.1-bin-hadoop2.7\\python\\pyspark\\sql\\session.py\u001b[0m in \u001b[0;36msql\u001b[1;34m(self, sqlQuery)\u001b[0m\n\u001b[0;32m    721\u001b[0m         \u001b[1;33m[\u001b[0m\u001b[0mRow\u001b[0m\u001b[1;33m(\u001b[0m\u001b[0mf1\u001b[0m\u001b[1;33m=\u001b[0m\u001b[1;36m1\u001b[0m\u001b[1;33m,\u001b[0m \u001b[0mf2\u001b[0m\u001b[1;33m=\u001b[0m\u001b[1;34m'row1'\u001b[0m\u001b[1;33m)\u001b[0m\u001b[1;33m,\u001b[0m \u001b[0mRow\u001b[0m\u001b[1;33m(\u001b[0m\u001b[0mf1\u001b[0m\u001b[1;33m=\u001b[0m\u001b[1;36m2\u001b[0m\u001b[1;33m,\u001b[0m \u001b[0mf2\u001b[0m\u001b[1;33m=\u001b[0m\u001b[1;34m'row2'\u001b[0m\u001b[1;33m)\u001b[0m\u001b[1;33m,\u001b[0m \u001b[0mRow\u001b[0m\u001b[1;33m(\u001b[0m\u001b[0mf1\u001b[0m\u001b[1;33m=\u001b[0m\u001b[1;36m3\u001b[0m\u001b[1;33m,\u001b[0m \u001b[0mf2\u001b[0m\u001b[1;33m=\u001b[0m\u001b[1;34m'row3'\u001b[0m\u001b[1;33m)\u001b[0m\u001b[1;33m]\u001b[0m\u001b[1;33m\u001b[0m\u001b[1;33m\u001b[0m\u001b[0m\n\u001b[0;32m    722\u001b[0m         \"\"\"\n\u001b[1;32m--> 723\u001b[1;33m         \u001b[1;32mreturn\u001b[0m \u001b[0mDataFrame\u001b[0m\u001b[1;33m(\u001b[0m\u001b[0mself\u001b[0m\u001b[1;33m.\u001b[0m\u001b[0m_jsparkSession\u001b[0m\u001b[1;33m.\u001b[0m\u001b[0msql\u001b[0m\u001b[1;33m(\u001b[0m\u001b[0msqlQuery\u001b[0m\u001b[1;33m)\u001b[0m\u001b[1;33m,\u001b[0m \u001b[0mself\u001b[0m\u001b[1;33m.\u001b[0m\u001b[0m_wrapped\u001b[0m\u001b[1;33m)\u001b[0m\u001b[1;33m\u001b[0m\u001b[1;33m\u001b[0m\u001b[0m\n\u001b[0m\u001b[0;32m    724\u001b[0m \u001b[1;33m\u001b[0m\u001b[0m\n\u001b[0;32m    725\u001b[0m     \u001b[1;32mdef\u001b[0m \u001b[0mtable\u001b[0m\u001b[1;33m(\u001b[0m\u001b[0mself\u001b[0m\u001b[1;33m,\u001b[0m \u001b[0mtableName\u001b[0m\u001b[1;33m)\u001b[0m\u001b[1;33m:\u001b[0m\u001b[1;33m\u001b[0m\u001b[1;33m\u001b[0m\u001b[0m\n",
      "\u001b[1;32mC:\\spark-3.1.1-bin-hadoop2.7\\python\\lib\\py4j-0.10.9-src.zip\\py4j\\java_gateway.py\u001b[0m in \u001b[0;36m__call__\u001b[1;34m(self, *args)\u001b[0m\n\u001b[0;32m   1302\u001b[0m \u001b[1;33m\u001b[0m\u001b[0m\n\u001b[0;32m   1303\u001b[0m         \u001b[0manswer\u001b[0m \u001b[1;33m=\u001b[0m \u001b[0mself\u001b[0m\u001b[1;33m.\u001b[0m\u001b[0mgateway_client\u001b[0m\u001b[1;33m.\u001b[0m\u001b[0msend_command\u001b[0m\u001b[1;33m(\u001b[0m\u001b[0mcommand\u001b[0m\u001b[1;33m)\u001b[0m\u001b[1;33m\u001b[0m\u001b[1;33m\u001b[0m\u001b[0m\n\u001b[1;32m-> 1304\u001b[1;33m         return_value = get_return_value(\n\u001b[0m\u001b[0;32m   1305\u001b[0m             answer, self.gateway_client, self.target_id, self.name)\n\u001b[0;32m   1306\u001b[0m \u001b[1;33m\u001b[0m\u001b[0m\n",
      "\u001b[1;32mC:\\spark-3.1.1-bin-hadoop2.7\\python\\pyspark\\sql\\utils.py\u001b[0m in \u001b[0;36mdeco\u001b[1;34m(*a, **kw)\u001b[0m\n\u001b[0;32m    115\u001b[0m                 \u001b[1;31m# Hide where the exception came from that shows a non-Pythonic\u001b[0m\u001b[1;33m\u001b[0m\u001b[1;33m\u001b[0m\u001b[1;33m\u001b[0m\u001b[0m\n\u001b[0;32m    116\u001b[0m                 \u001b[1;31m# JVM exception message.\u001b[0m\u001b[1;33m\u001b[0m\u001b[1;33m\u001b[0m\u001b[1;33m\u001b[0m\u001b[0m\n\u001b[1;32m--> 117\u001b[1;33m                 \u001b[1;32mraise\u001b[0m \u001b[0mconverted\u001b[0m \u001b[1;32mfrom\u001b[0m \u001b[1;32mNone\u001b[0m\u001b[1;33m\u001b[0m\u001b[1;33m\u001b[0m\u001b[0m\n\u001b[0m\u001b[0;32m    118\u001b[0m             \u001b[1;32melse\u001b[0m\u001b[1;33m:\u001b[0m\u001b[1;33m\u001b[0m\u001b[1;33m\u001b[0m\u001b[0m\n\u001b[0;32m    119\u001b[0m                 \u001b[1;32mraise\u001b[0m\u001b[1;33m\u001b[0m\u001b[1;33m\u001b[0m\u001b[0m\n",
      "\u001b[1;31mAnalysisException\u001b[0m: cannot resolve '`employee_name`' given input columns: [emp.AMT_ANNUITY, emp.AMT_CREDIT, emp.AMT_INCOME_TOTAL, emp.CNT_CHILDREN, emp.CNT_FAM_MEMBERS, emp.CODE_GENDER, emp.DAYS_BIRTH, emp.DAYS_EMPLOYED, emp.FLAG_CONT_MOBILE, emp.FLAG_DOCUMENT_10, emp.FLAG_DOCUMENT_11, emp.FLAG_DOCUMENT_12, emp.FLAG_DOCUMENT_2, emp.FLAG_DOCUMENT_3, emp.FLAG_DOCUMENT_4, emp.FLAG_DOCUMENT_5, emp.FLAG_DOCUMENT_6, emp.FLAG_DOCUMENT_7, emp.FLAG_DOCUMENT_8, emp.FLAG_DOCUMENT_9, emp.FLAG_EMP_PHONE, emp.FLAG_MOBIL, emp.FLAG_OWN_CAR, emp.FLAG_OWN_REALTY, emp.FLAG_PHONE, emp.FLAG_WORK_PHONE, emp.NAME_CONTRACT_TYPE, emp.NAME_EDUCATION_TYPE, emp.NAME_FAMILY_STATUS, emp.NAME_HOUSING_TYPE, emp.NAME_INCOME_TYPE, emp.ORGANIZATION_TYPE, emp.REGION_RATING_CLIENT, emp.REGION_RATING_CLIENT_W_CITY, emp.REG_REGION_NOT_LIVE_REGION, emp.REG_REGION_NOT_WORK_REGION, emp.TARGET]; line 1 pos 7;\n'Sort ['department ASC NULLS FIRST], true\n+- 'Project ['employee_name, 'department, 'state, 'salary, 'age, 'bonus]\n   +- SubqueryAlias emp\n      +- Project [TARGET#16, NAME_CONTRACT_TYPE#17, CODE_GENDER#18, FLAG_OWN_CAR#19, FLAG_OWN_REALTY#20, CNT_CHILDREN#21, AMT_INCOME_TOTAL#22, AMT_CREDIT#23, AMT_ANNUITY#1983, NAME_INCOME_TYPE#25, NAME_EDUCATION_TYPE#26, NAME_FAMILY_STATUS#27, NAME_HOUSING_TYPE#28, DAYS_BIRTH#29, DAYS_EMPLOYED#30, FLAG_MOBIL#31, FLAG_EMP_PHONE#32, FLAG_WORK_PHONE#33, FLAG_CONT_MOBILE#34, FLAG_PHONE#35, coalesce(CNT_FAM_MEMBERS#36, cast(0 as int)) AS CNT_FAM_MEMBERS#2058, REGION_RATING_CLIENT#37, REGION_RATING_CLIENT_W_CITY#38, REG_REGION_NOT_LIVE_REGION#39, ... 13 more fields]\n         +- Project [TARGET#16, NAME_CONTRACT_TYPE#17, CODE_GENDER#18, FLAG_OWN_CAR#19, FLAG_OWN_REALTY#20, CNT_CHILDREN#21, AMT_INCOME_TOTAL#22, AMT_CREDIT#23, coalesce(nanvl(AMT_ANNUITY#24, cast(null as double)), cast(4 as double)) AS AMT_ANNUITY#1983, NAME_INCOME_TYPE#25, NAME_EDUCATION_TYPE#26, NAME_FAMILY_STATUS#27, NAME_HOUSING_TYPE#28, DAYS_BIRTH#29, DAYS_EMPLOYED#30, FLAG_MOBIL#31, FLAG_EMP_PHONE#32, FLAG_WORK_PHONE#33, FLAG_CONT_MOBILE#34, FLAG_PHONE#35, CNT_FAM_MEMBERS#36, REGION_RATING_CLIENT#37, REGION_RATING_CLIENT_W_CITY#38, REG_REGION_NOT_LIVE_REGION#39, ... 13 more fields]\n            +- Relation[TARGET#16,NAME_CONTRACT_TYPE#17,CODE_GENDER#18,FLAG_OWN_CAR#19,FLAG_OWN_REALTY#20,CNT_CHILDREN#21,AMT_INCOME_TOTAL#22,AMT_CREDIT#23,AMT_ANNUITY#24,NAME_INCOME_TYPE#25,NAME_EDUCATION_TYPE#26,NAME_FAMILY_STATUS#27,NAME_HOUSING_TYPE#28,DAYS_BIRTH#29,DAYS_EMPLOYED#30,FLAG_MOBIL#31,FLAG_EMP_PHONE#32,FLAG_WORK_PHONE#33,FLAG_CONT_MOBILE#34,FLAG_PHONE#35,CNT_FAM_MEMBERS#36,REGION_RATING_CLIENT#37,REGION_RATING_CLIENT_W_CITY#38,REG_REGION_NOT_LIVE_REGION#39,... 13 more fields] csv\n"
     ]
    }
   ],
   "source": [
    "df.createOrReplaceTempView(\"EMP\") \n",
    "spark.sql(\"select employee_name,department,state,salary,age,bonus from EMP ORDER BY department asc\").show(truncate=False)"
   ]
  },
  {
   "cell_type": "code",
   "execution_count": null,
   "id": "forward-biography",
   "metadata": {},
   "outputs": [],
   "source": []
  }
 ],
 "metadata": {
  "kernelspec": {
   "display_name": "Python 3",
   "language": "python",
   "name": "python3"
  },
  "language_info": {
   "codemirror_mode": {
    "name": "ipython",
    "version": 3
   },
   "file_extension": ".py",
   "mimetype": "text/x-python",
   "name": "python",
   "nbconvert_exporter": "python",
   "pygments_lexer": "ipython3",
   "version": "3.8.5"
  }
 },
 "nbformat": 4,
 "nbformat_minor": 5
}
